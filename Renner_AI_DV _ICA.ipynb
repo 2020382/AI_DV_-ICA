{
 "cells": [
  {
   "cell_type": "code",
   "execution_count": 1,
   "id": "f0f61348",
   "metadata": {},
   "outputs": [
    {
     "name": "stdout",
     "output_type": "stream",
     "text": [
      "Requirement already satisfied: python-constraint in /Users/renner/anaconda3/lib/python3.11/site-packages (1.4.0)\n",
      "Note: you may need to restart the kernel to use updated packages.\n"
     ]
    }
   ],
   "source": [
    "pip install python-constraint"
   ]
  },
  {
   "cell_type": "code",
   "execution_count": 20,
   "id": "b3da6b7a",
   "metadata": {
    "scrolled": false
   },
   "outputs": [
    {
     "name": "stdout",
     "output_type": "stream",
     "text": [
      "Combination 1:\n",
      "Python Programmer: Ciara and Jane\n",
      "AI Engineers: Anita and Jim\n",
      "Web Designer: Anita\n",
      "Database Admin: Jane\n",
      "Systems Engineer: Jim\n",
      "\n",
      "Combination 2:\n",
      "Python Programmer: Ciara and Jane\n",
      "AI Engineers: Jim and Anita\n",
      "Web Designer: Anita\n",
      "Database Admin: Jane\n",
      "Systems Engineer: Jim\n",
      "\n",
      "Combination 3:\n",
      "Python Programmer: Ciara and Jane\n",
      "AI Engineers: Jim and Juan\n",
      "Web Designer: Juan\n",
      "Database Admin: Jane\n",
      "Systems Engineer: Jim\n",
      "\n",
      "Combination 4:\n",
      "Python Programmer: Ciara and Jane\n",
      "AI Engineers: Juan and Jim\n",
      "Web Designer: Juan\n",
      "Database Admin: Jane\n",
      "Systems Engineer: Jim\n",
      "\n"
     ]
    }
   ],
   "source": [
    "from constraint import Problem\n",
    "\n",
    "def hiring_constraint(python, ai1, ai2, web, db, systems):\n",
    "    from collections import Counter\n",
    "    roles = [python, ai1, ai2, web, db, systems]\n",
    "    counter = Counter(roles)\n",
    "\n",
    "    # Constraint: Each person can fill at most two roles\n",
    "    if any(count > 2 for count in counter.values()):\n",
    "        return False\n",
    "\n",
    "    # Constraint: Exactly three candidates must be hired\n",
    "    if len([c for c in counter if c != \"Ciara\"]) != 3:\n",
    "        return False\n",
    "\n",
    "    # Constraint: AI Engineers must be different individuals\n",
    "    if ai1 == ai2:\n",
    "        return False\n",
    "\n",
    "    return True\n",
    "\n",
    "# Setting up the problem\n",
    "problem = Problem()\n",
    "\n",
    "# Adding variables (roles) and their domains (candidates for each role)\n",
    "problem.addVariable(\"Python Programmer\", [\"Peter\", \"Jane\", \"Bruce\"])  # Excluding Ciara who already fills one Python role\n",
    "problem.addVariable(\"AI Engineer 1\", [\"Peter\", \"Juan\", \"Jim\", \"Anita\"])\n",
    "problem.addVariable(\"AI Engineer 2\", [\"Peter\", \"Juan\", \"Jim\", \"Anita\"])\n",
    "problem.addVariable(\"Web Designer\", [\"Juan\", \"Mary\", \"Anita\"])\n",
    "problem.addVariable(\"Database Admin\", [\"Jane\"])\n",
    "problem.addVariable(\"Systems Engineer\", [\"Jim\", \"Mary\", \"Bruce\"])\n",
    "\n",
    "# Adding the custom constraint\n",
    "problem.addConstraint(hiring_constraint, [\"Python Programmer\", \"AI Engineer 1\", \"AI Engineer 2\", \"Web Designer\", \"Database Admin\", \"Systems Engineer\"])\n",
    "\n",
    "# Solving the problem\n",
    "solutions = problem.getSolutions()\n",
    "\n",
    "# Displaying the solutions in a readable format\n",
    "for i, solution in enumerate(solutions, 1):\n",
    "    print(f\"Combination {i}:\")\n",
    "    print(f\"Python Programmer: Ciara and {solution['Python Programmer']}\")\n",
    "    print(f\"AI Engineers: {solution['AI Engineer 1']} and {solution['AI Engineer 2']}\")\n",
    "    print(f\"Web Designer: {solution['Web Designer']}\")\n",
    "    print(f\"Database Admin: {solution['Database Admin']}\")\n",
    "    print(f\"Systems Engineer: {solution['Systems Engineer']}\\n\")\n"
   ]
  },
  {
   "cell_type": "code",
   "execution_count": null,
   "id": "921f20bd",
   "metadata": {},
   "outputs": [],
   "source": []
  },
  {
   "cell_type": "code",
   "execution_count": null,
   "id": "68b4c9cc",
   "metadata": {},
   "outputs": [],
   "source": []
  },
  {
   "cell_type": "code",
   "execution_count": 31,
   "id": "2c263dfb",
   "metadata": {},
   "outputs": [
    {
     "name": "stdout",
     "output_type": "stream",
     "text": [
      "Total number of valid combinations: 72\n",
      "Combination 1:\n",
      "Python_Programmer1: Bruce\n",
      "Python_Programmer2: Peter\n",
      "AI_Engineer1: Anita\n",
      "AI_Engineer2: Jim\n",
      "AI_Engineer3: Juan\n",
      "Database_Admin: Jane\n",
      "Web_Designer: Anita\n",
      "Systems_Engineer: Mary\n",
      "\n",
      "Combination 2:\n",
      "Python_Programmer1: Bruce\n",
      "Python_Programmer2: Peter\n",
      "AI_Engineer1: Anita\n",
      "AI_Engineer2: Jim\n",
      "AI_Engineer3: Juan\n",
      "Database_Admin: Jane\n",
      "Web_Designer: Mary\n",
      "Systems_Engineer: Bruce\n",
      "\n",
      "Combination 3:\n",
      "Python_Programmer1: Bruce\n",
      "Python_Programmer2: Peter\n",
      "AI_Engineer1: Anita\n",
      "AI_Engineer2: Jim\n",
      "AI_Engineer3: Juan\n",
      "Database_Admin: Jane\n",
      "Web_Designer: Mary\n",
      "Systems_Engineer: Jim\n",
      "\n",
      "Combination 4:\n",
      "Python_Programmer1: Bruce\n",
      "Python_Programmer2: Peter\n",
      "AI_Engineer1: Anita\n",
      "AI_Engineer2: Jim\n",
      "AI_Engineer3: Juan\n",
      "Database_Admin: Jane\n",
      "Web_Designer: Mary\n",
      "Systems_Engineer: Mary\n",
      "\n",
      "Combination 5:\n",
      "Python_Programmer1: Bruce\n",
      "Python_Programmer2: Peter\n",
      "AI_Engineer1: Anita\n",
      "AI_Engineer2: Juan\n",
      "AI_Engineer3: Jim\n",
      "Database_Admin: Jane\n",
      "Web_Designer: Anita\n",
      "Systems_Engineer: Mary\n",
      "\n",
      "Combination 6:\n",
      "Python_Programmer1: Bruce\n",
      "Python_Programmer2: Peter\n",
      "AI_Engineer1: Anita\n",
      "AI_Engineer2: Juan\n",
      "AI_Engineer3: Jim\n",
      "Database_Admin: Jane\n",
      "Web_Designer: Mary\n",
      "Systems_Engineer: Bruce\n",
      "\n",
      "Combination 7:\n",
      "Python_Programmer1: Bruce\n",
      "Python_Programmer2: Peter\n",
      "AI_Engineer1: Anita\n",
      "AI_Engineer2: Juan\n",
      "AI_Engineer3: Jim\n",
      "Database_Admin: Jane\n",
      "Web_Designer: Mary\n",
      "Systems_Engineer: Jim\n",
      "\n",
      "Combination 8:\n",
      "Python_Programmer1: Bruce\n",
      "Python_Programmer2: Peter\n",
      "AI_Engineer1: Anita\n",
      "AI_Engineer2: Juan\n",
      "AI_Engineer3: Jim\n",
      "Database_Admin: Jane\n",
      "Web_Designer: Mary\n",
      "Systems_Engineer: Mary\n",
      "\n",
      "Combination 9:\n",
      "Python_Programmer1: Bruce\n",
      "Python_Programmer2: Peter\n",
      "AI_Engineer1: Anita\n",
      "AI_Engineer2: Juan\n",
      "AI_Engineer3: Peter\n",
      "Database_Admin: Jane\n",
      "Web_Designer: Mary\n",
      "Systems_Engineer: Jim\n",
      "\n",
      "Combination 10:\n",
      "Python_Programmer1: Bruce\n",
      "Python_Programmer2: Peter\n",
      "AI_Engineer1: Anita\n",
      "AI_Engineer2: Peter\n",
      "AI_Engineer3: Juan\n",
      "Database_Admin: Jane\n",
      "Web_Designer: Mary\n",
      "Systems_Engineer: Jim\n",
      "\n",
      "Combination 11:\n",
      "Python_Programmer1: Bruce\n",
      "Python_Programmer2: Peter\n",
      "AI_Engineer1: Jim\n",
      "AI_Engineer2: Anita\n",
      "AI_Engineer3: Juan\n",
      "Database_Admin: Jane\n",
      "Web_Designer: Anita\n",
      "Systems_Engineer: Mary\n",
      "\n",
      "Combination 12:\n",
      "Python_Programmer1: Bruce\n",
      "Python_Programmer2: Peter\n",
      "AI_Engineer1: Jim\n",
      "AI_Engineer2: Anita\n",
      "AI_Engineer3: Juan\n",
      "Database_Admin: Jane\n",
      "Web_Designer: Mary\n",
      "Systems_Engineer: Bruce\n",
      "\n",
      "Combination 13:\n",
      "Python_Programmer1: Bruce\n",
      "Python_Programmer2: Peter\n",
      "AI_Engineer1: Jim\n",
      "AI_Engineer2: Anita\n",
      "AI_Engineer3: Juan\n",
      "Database_Admin: Jane\n",
      "Web_Designer: Mary\n",
      "Systems_Engineer: Jim\n",
      "\n",
      "Combination 14:\n",
      "Python_Programmer1: Bruce\n",
      "Python_Programmer2: Peter\n",
      "AI_Engineer1: Jim\n",
      "AI_Engineer2: Anita\n",
      "AI_Engineer3: Juan\n",
      "Database_Admin: Jane\n",
      "Web_Designer: Mary\n",
      "Systems_Engineer: Mary\n",
      "\n",
      "Combination 15:\n",
      "Python_Programmer1: Bruce\n",
      "Python_Programmer2: Peter\n",
      "AI_Engineer1: Jim\n",
      "AI_Engineer2: Juan\n",
      "AI_Engineer3: Anita\n",
      "Database_Admin: Jane\n",
      "Web_Designer: Anita\n",
      "Systems_Engineer: Mary\n",
      "\n",
      "Combination 16:\n",
      "Python_Programmer1: Bruce\n",
      "Python_Programmer2: Peter\n",
      "AI_Engineer1: Jim\n",
      "AI_Engineer2: Juan\n",
      "AI_Engineer3: Anita\n",
      "Database_Admin: Jane\n",
      "Web_Designer: Mary\n",
      "Systems_Engineer: Bruce\n",
      "\n",
      "Combination 17:\n",
      "Python_Programmer1: Bruce\n",
      "Python_Programmer2: Peter\n",
      "AI_Engineer1: Jim\n",
      "AI_Engineer2: Juan\n",
      "AI_Engineer3: Anita\n",
      "Database_Admin: Jane\n",
      "Web_Designer: Mary\n",
      "Systems_Engineer: Jim\n",
      "\n",
      "Combination 18:\n",
      "Python_Programmer1: Bruce\n",
      "Python_Programmer2: Peter\n",
      "AI_Engineer1: Jim\n",
      "AI_Engineer2: Juan\n",
      "AI_Engineer3: Anita\n",
      "Database_Admin: Jane\n",
      "Web_Designer: Mary\n",
      "Systems_Engineer: Mary\n",
      "\n",
      "Combination 19:\n",
      "Python_Programmer1: Bruce\n",
      "Python_Programmer2: Peter\n",
      "AI_Engineer1: Jim\n",
      "AI_Engineer2: Juan\n",
      "AI_Engineer3: Peter\n",
      "Database_Admin: Jane\n",
      "Web_Designer: Anita\n",
      "Systems_Engineer: Mary\n",
      "\n",
      "Combination 20:\n",
      "Python_Programmer1: Bruce\n",
      "Python_Programmer2: Peter\n",
      "AI_Engineer1: Jim\n",
      "AI_Engineer2: Peter\n",
      "AI_Engineer3: Juan\n",
      "Database_Admin: Jane\n",
      "Web_Designer: Anita\n",
      "Systems_Engineer: Mary\n",
      "\n",
      "Combination 21:\n",
      "Python_Programmer1: Bruce\n",
      "Python_Programmer2: Peter\n",
      "AI_Engineer1: Juan\n",
      "AI_Engineer2: Anita\n",
      "AI_Engineer3: Jim\n",
      "Database_Admin: Jane\n",
      "Web_Designer: Anita\n",
      "Systems_Engineer: Mary\n",
      "\n",
      "Combination 22:\n",
      "Python_Programmer1: Bruce\n",
      "Python_Programmer2: Peter\n",
      "AI_Engineer1: Juan\n",
      "AI_Engineer2: Anita\n",
      "AI_Engineer3: Jim\n",
      "Database_Admin: Jane\n",
      "Web_Designer: Mary\n",
      "Systems_Engineer: Bruce\n",
      "\n",
      "Combination 23:\n",
      "Python_Programmer1: Bruce\n",
      "Python_Programmer2: Peter\n",
      "AI_Engineer1: Juan\n",
      "AI_Engineer2: Anita\n",
      "AI_Engineer3: Jim\n",
      "Database_Admin: Jane\n",
      "Web_Designer: Mary\n",
      "Systems_Engineer: Jim\n",
      "\n",
      "Combination 24:\n",
      "Python_Programmer1: Bruce\n",
      "Python_Programmer2: Peter\n",
      "AI_Engineer1: Juan\n",
      "AI_Engineer2: Anita\n",
      "AI_Engineer3: Jim\n",
      "Database_Admin: Jane\n",
      "Web_Designer: Mary\n",
      "Systems_Engineer: Mary\n",
      "\n",
      "Combination 25:\n",
      "Python_Programmer1: Bruce\n",
      "Python_Programmer2: Peter\n",
      "AI_Engineer1: Juan\n",
      "AI_Engineer2: Anita\n",
      "AI_Engineer3: Peter\n",
      "Database_Admin: Jane\n",
      "Web_Designer: Mary\n",
      "Systems_Engineer: Jim\n",
      "\n",
      "Combination 26:\n",
      "Python_Programmer1: Bruce\n",
      "Python_Programmer2: Peter\n",
      "AI_Engineer1: Juan\n",
      "AI_Engineer2: Jim\n",
      "AI_Engineer3: Anita\n",
      "Database_Admin: Jane\n",
      "Web_Designer: Anita\n",
      "Systems_Engineer: Mary\n",
      "\n",
      "Combination 27:\n",
      "Python_Programmer1: Bruce\n",
      "Python_Programmer2: Peter\n",
      "AI_Engineer1: Juan\n",
      "AI_Engineer2: Jim\n",
      "AI_Engineer3: Anita\n",
      "Database_Admin: Jane\n",
      "Web_Designer: Mary\n",
      "Systems_Engineer: Bruce\n",
      "\n",
      "Combination 28:\n",
      "Python_Programmer1: Bruce\n",
      "Python_Programmer2: Peter\n",
      "AI_Engineer1: Juan\n",
      "AI_Engineer2: Jim\n",
      "AI_Engineer3: Anita\n",
      "Database_Admin: Jane\n",
      "Web_Designer: Mary\n",
      "Systems_Engineer: Jim\n",
      "\n",
      "Combination 29:\n",
      "Python_Programmer1: Bruce\n",
      "Python_Programmer2: Peter\n",
      "AI_Engineer1: Juan\n",
      "AI_Engineer2: Jim\n",
      "AI_Engineer3: Anita\n",
      "Database_Admin: Jane\n",
      "Web_Designer: Mary\n",
      "Systems_Engineer: Mary\n",
      "\n",
      "Combination 30:\n",
      "Python_Programmer1: Bruce\n",
      "Python_Programmer2: Peter\n",
      "AI_Engineer1: Juan\n",
      "AI_Engineer2: Jim\n",
      "AI_Engineer3: Peter\n",
      "Database_Admin: Jane\n",
      "Web_Designer: Anita\n",
      "Systems_Engineer: Mary\n",
      "\n",
      "Combination 31:\n",
      "Python_Programmer1: Bruce\n",
      "Python_Programmer2: Peter\n",
      "AI_Engineer1: Juan\n",
      "AI_Engineer2: Peter\n",
      "AI_Engineer3: Jim\n",
      "Database_Admin: Jane\n",
      "Web_Designer: Anita\n",
      "Systems_Engineer: Mary\n",
      "\n",
      "Combination 32:\n",
      "Python_Programmer1: Bruce\n",
      "Python_Programmer2: Peter\n",
      "AI_Engineer1: Juan\n",
      "AI_Engineer2: Peter\n",
      "AI_Engineer3: Anita\n",
      "Database_Admin: Jane\n",
      "Web_Designer: Mary\n",
      "Systems_Engineer: Jim\n",
      "\n",
      "Combination 33:\n",
      "Python_Programmer1: Bruce\n",
      "Python_Programmer2: Peter\n",
      "AI_Engineer1: Peter\n",
      "AI_Engineer2: Anita\n",
      "AI_Engineer3: Juan\n",
      "Database_Admin: Jane\n",
      "Web_Designer: Mary\n",
      "Systems_Engineer: Jim\n",
      "\n",
      "Combination 34:\n",
      "Python_Programmer1: Bruce\n",
      "Python_Programmer2: Peter\n",
      "AI_Engineer1: Peter\n",
      "AI_Engineer2: Jim\n",
      "AI_Engineer3: Juan\n",
      "Database_Admin: Jane\n",
      "Web_Designer: Anita\n",
      "Systems_Engineer: Mary\n",
      "\n",
      "Combination 35:\n",
      "Python_Programmer1: Bruce\n",
      "Python_Programmer2: Peter\n",
      "AI_Engineer1: Peter\n",
      "AI_Engineer2: Juan\n",
      "AI_Engineer3: Jim\n",
      "Database_Admin: Jane\n",
      "Web_Designer: Anita\n",
      "Systems_Engineer: Mary\n",
      "\n",
      "Combination 36:\n",
      "Python_Programmer1: Bruce\n",
      "Python_Programmer2: Peter\n",
      "AI_Engineer1: Peter\n",
      "AI_Engineer2: Juan\n",
      "AI_Engineer3: Anita\n",
      "Database_Admin: Jane\n",
      "Web_Designer: Mary\n",
      "Systems_Engineer: Jim\n",
      "\n",
      "Combination 37:\n",
      "Python_Programmer1: Peter\n",
      "Python_Programmer2: Bruce\n",
      "AI_Engineer1: Anita\n",
      "AI_Engineer2: Jim\n",
      "AI_Engineer3: Juan\n",
      "Database_Admin: Jane\n",
      "Web_Designer: Anita\n",
      "Systems_Engineer: Mary\n",
      "\n",
      "Combination 38:\n",
      "Python_Programmer1: Peter\n",
      "Python_Programmer2: Bruce\n",
      "AI_Engineer1: Anita\n",
      "AI_Engineer2: Jim\n",
      "AI_Engineer3: Juan\n",
      "Database_Admin: Jane\n",
      "Web_Designer: Mary\n",
      "Systems_Engineer: Bruce\n",
      "\n",
      "Combination 39:\n",
      "Python_Programmer1: Peter\n",
      "Python_Programmer2: Bruce\n",
      "AI_Engineer1: Anita\n",
      "AI_Engineer2: Jim\n",
      "AI_Engineer3: Juan\n",
      "Database_Admin: Jane\n",
      "Web_Designer: Mary\n",
      "Systems_Engineer: Jim\n",
      "\n",
      "Combination 40:\n",
      "Python_Programmer1: Peter\n",
      "Python_Programmer2: Bruce\n",
      "AI_Engineer1: Anita\n",
      "AI_Engineer2: Jim\n",
      "AI_Engineer3: Juan\n",
      "Database_Admin: Jane\n",
      "Web_Designer: Mary\n",
      "Systems_Engineer: Mary\n",
      "\n",
      "Combination 41:\n",
      "Python_Programmer1: Peter\n",
      "Python_Programmer2: Bruce\n",
      "AI_Engineer1: Anita\n",
      "AI_Engineer2: Juan\n",
      "AI_Engineer3: Jim\n",
      "Database_Admin: Jane\n",
      "Web_Designer: Anita\n",
      "Systems_Engineer: Mary\n",
      "\n",
      "Combination 42:\n",
      "Python_Programmer1: Peter\n",
      "Python_Programmer2: Bruce\n",
      "AI_Engineer1: Anita\n",
      "AI_Engineer2: Juan\n",
      "AI_Engineer3: Jim\n",
      "Database_Admin: Jane\n",
      "Web_Designer: Mary\n",
      "Systems_Engineer: Bruce\n",
      "\n",
      "Combination 43:\n",
      "Python_Programmer1: Peter\n",
      "Python_Programmer2: Bruce\n",
      "AI_Engineer1: Anita\n",
      "AI_Engineer2: Juan\n",
      "AI_Engineer3: Jim\n",
      "Database_Admin: Jane\n",
      "Web_Designer: Mary\n",
      "Systems_Engineer: Jim\n",
      "\n",
      "Combination 44:\n",
      "Python_Programmer1: Peter\n",
      "Python_Programmer2: Bruce\n",
      "AI_Engineer1: Anita\n",
      "AI_Engineer2: Juan\n",
      "AI_Engineer3: Jim\n",
      "Database_Admin: Jane\n",
      "Web_Designer: Mary\n",
      "Systems_Engineer: Mary\n",
      "\n",
      "Combination 45:\n",
      "Python_Programmer1: Peter\n",
      "Python_Programmer2: Bruce\n",
      "AI_Engineer1: Anita\n",
      "AI_Engineer2: Juan\n",
      "AI_Engineer3: Peter\n",
      "Database_Admin: Jane\n",
      "Web_Designer: Mary\n",
      "Systems_Engineer: Jim\n",
      "\n",
      "Combination 46:\n",
      "Python_Programmer1: Peter\n",
      "Python_Programmer2: Bruce\n",
      "AI_Engineer1: Anita\n",
      "AI_Engineer2: Peter\n",
      "AI_Engineer3: Juan\n",
      "Database_Admin: Jane\n",
      "Web_Designer: Mary\n",
      "Systems_Engineer: Jim\n",
      "\n",
      "Combination 47:\n",
      "Python_Programmer1: Peter\n",
      "Python_Programmer2: Bruce\n",
      "AI_Engineer1: Jim\n",
      "AI_Engineer2: Anita\n",
      "AI_Engineer3: Juan\n",
      "Database_Admin: Jane\n",
      "Web_Designer: Anita\n",
      "Systems_Engineer: Mary\n",
      "\n",
      "Combination 48:\n",
      "Python_Programmer1: Peter\n",
      "Python_Programmer2: Bruce\n",
      "AI_Engineer1: Jim\n",
      "AI_Engineer2: Anita\n",
      "AI_Engineer3: Juan\n",
      "Database_Admin: Jane\n",
      "Web_Designer: Mary\n",
      "Systems_Engineer: Bruce\n",
      "\n",
      "Combination 49:\n",
      "Python_Programmer1: Peter\n",
      "Python_Programmer2: Bruce\n",
      "AI_Engineer1: Jim\n",
      "AI_Engineer2: Anita\n",
      "AI_Engineer3: Juan\n",
      "Database_Admin: Jane\n",
      "Web_Designer: Mary\n",
      "Systems_Engineer: Jim\n",
      "\n",
      "Combination 50:\n",
      "Python_Programmer1: Peter\n",
      "Python_Programmer2: Bruce\n",
      "AI_Engineer1: Jim\n",
      "AI_Engineer2: Anita\n",
      "AI_Engineer3: Juan\n",
      "Database_Admin: Jane\n",
      "Web_Designer: Mary\n",
      "Systems_Engineer: Mary\n",
      "\n",
      "Combination 51:\n",
      "Python_Programmer1: Peter\n",
      "Python_Programmer2: Bruce\n",
      "AI_Engineer1: Jim\n",
      "AI_Engineer2: Juan\n",
      "AI_Engineer3: Anita\n",
      "Database_Admin: Jane\n",
      "Web_Designer: Anita\n",
      "Systems_Engineer: Mary\n",
      "\n",
      "Combination 52:\n",
      "Python_Programmer1: Peter\n",
      "Python_Programmer2: Bruce\n",
      "AI_Engineer1: Jim\n",
      "AI_Engineer2: Juan\n",
      "AI_Engineer3: Anita\n",
      "Database_Admin: Jane\n",
      "Web_Designer: Mary\n",
      "Systems_Engineer: Bruce\n",
      "\n",
      "Combination 53:\n",
      "Python_Programmer1: Peter\n",
      "Python_Programmer2: Bruce\n",
      "AI_Engineer1: Jim\n",
      "AI_Engineer2: Juan\n",
      "AI_Engineer3: Anita\n",
      "Database_Admin: Jane\n",
      "Web_Designer: Mary\n",
      "Systems_Engineer: Jim\n",
      "\n",
      "Combination 54:\n",
      "Python_Programmer1: Peter\n",
      "Python_Programmer2: Bruce\n",
      "AI_Engineer1: Jim\n",
      "AI_Engineer2: Juan\n",
      "AI_Engineer3: Anita\n",
      "Database_Admin: Jane\n",
      "Web_Designer: Mary\n",
      "Systems_Engineer: Mary\n",
      "\n",
      "Combination 55:\n",
      "Python_Programmer1: Peter\n",
      "Python_Programmer2: Bruce\n",
      "AI_Engineer1: Jim\n",
      "AI_Engineer2: Juan\n",
      "AI_Engineer3: Peter\n",
      "Database_Admin: Jane\n",
      "Web_Designer: Anita\n",
      "Systems_Engineer: Mary\n",
      "\n",
      "Combination 56:\n",
      "Python_Programmer1: Peter\n",
      "Python_Programmer2: Bruce\n",
      "AI_Engineer1: Jim\n",
      "AI_Engineer2: Peter\n",
      "AI_Engineer3: Juan\n",
      "Database_Admin: Jane\n",
      "Web_Designer: Anita\n",
      "Systems_Engineer: Mary\n",
      "\n",
      "Combination 57:\n",
      "Python_Programmer1: Peter\n",
      "Python_Programmer2: Bruce\n",
      "AI_Engineer1: Juan\n",
      "AI_Engineer2: Anita\n",
      "AI_Engineer3: Jim\n",
      "Database_Admin: Jane\n",
      "Web_Designer: Anita\n",
      "Systems_Engineer: Mary\n",
      "\n",
      "Combination 58:\n",
      "Python_Programmer1: Peter\n",
      "Python_Programmer2: Bruce\n",
      "AI_Engineer1: Juan\n",
      "AI_Engineer2: Anita\n",
      "AI_Engineer3: Jim\n",
      "Database_Admin: Jane\n",
      "Web_Designer: Mary\n",
      "Systems_Engineer: Bruce\n",
      "\n",
      "Combination 59:\n",
      "Python_Programmer1: Peter\n",
      "Python_Programmer2: Bruce\n",
      "AI_Engineer1: Juan\n",
      "AI_Engineer2: Anita\n",
      "AI_Engineer3: Jim\n",
      "Database_Admin: Jane\n",
      "Web_Designer: Mary\n",
      "Systems_Engineer: Jim\n",
      "\n",
      "Combination 60:\n",
      "Python_Programmer1: Peter\n",
      "Python_Programmer2: Bruce\n",
      "AI_Engineer1: Juan\n",
      "AI_Engineer2: Anita\n",
      "AI_Engineer3: Jim\n",
      "Database_Admin: Jane\n",
      "Web_Designer: Mary\n",
      "Systems_Engineer: Mary\n",
      "\n",
      "Combination 61:\n",
      "Python_Programmer1: Peter\n",
      "Python_Programmer2: Bruce\n",
      "AI_Engineer1: Juan\n",
      "AI_Engineer2: Anita\n",
      "AI_Engineer3: Peter\n",
      "Database_Admin: Jane\n",
      "Web_Designer: Mary\n",
      "Systems_Engineer: Jim\n",
      "\n",
      "Combination 62:\n",
      "Python_Programmer1: Peter\n",
      "Python_Programmer2: Bruce\n",
      "AI_Engineer1: Juan\n",
      "AI_Engineer2: Jim\n",
      "AI_Engineer3: Anita\n",
      "Database_Admin: Jane\n",
      "Web_Designer: Anita\n",
      "Systems_Engineer: Mary\n",
      "\n",
      "Combination 63:\n",
      "Python_Programmer1: Peter\n",
      "Python_Programmer2: Bruce\n",
      "AI_Engineer1: Juan\n",
      "AI_Engineer2: Jim\n",
      "AI_Engineer3: Anita\n",
      "Database_Admin: Jane\n",
      "Web_Designer: Mary\n",
      "Systems_Engineer: Bruce\n",
      "\n",
      "Combination 64:\n",
      "Python_Programmer1: Peter\n",
      "Python_Programmer2: Bruce\n",
      "AI_Engineer1: Juan\n",
      "AI_Engineer2: Jim\n",
      "AI_Engineer3: Anita\n",
      "Database_Admin: Jane\n",
      "Web_Designer: Mary\n",
      "Systems_Engineer: Jim\n",
      "\n",
      "Combination 65:\n",
      "Python_Programmer1: Peter\n",
      "Python_Programmer2: Bruce\n",
      "AI_Engineer1: Juan\n",
      "AI_Engineer2: Jim\n",
      "AI_Engineer3: Anita\n",
      "Database_Admin: Jane\n",
      "Web_Designer: Mary\n",
      "Systems_Engineer: Mary\n",
      "\n",
      "Combination 66:\n",
      "Python_Programmer1: Peter\n",
      "Python_Programmer2: Bruce\n",
      "AI_Engineer1: Juan\n",
      "AI_Engineer2: Jim\n",
      "AI_Engineer3: Peter\n",
      "Database_Admin: Jane\n",
      "Web_Designer: Anita\n",
      "Systems_Engineer: Mary\n",
      "\n",
      "Combination 67:\n",
      "Python_Programmer1: Peter\n",
      "Python_Programmer2: Bruce\n",
      "AI_Engineer1: Juan\n",
      "AI_Engineer2: Peter\n",
      "AI_Engineer3: Jim\n",
      "Database_Admin: Jane\n",
      "Web_Designer: Anita\n",
      "Systems_Engineer: Mary\n",
      "\n",
      "Combination 68:\n",
      "Python_Programmer1: Peter\n",
      "Python_Programmer2: Bruce\n",
      "AI_Engineer1: Juan\n",
      "AI_Engineer2: Peter\n",
      "AI_Engineer3: Anita\n",
      "Database_Admin: Jane\n",
      "Web_Designer: Mary\n",
      "Systems_Engineer: Jim\n",
      "\n",
      "Combination 69:\n",
      "Python_Programmer1: Peter\n",
      "Python_Programmer2: Bruce\n",
      "AI_Engineer1: Peter\n",
      "AI_Engineer2: Anita\n",
      "AI_Engineer3: Juan\n",
      "Database_Admin: Jane\n",
      "Web_Designer: Mary\n",
      "Systems_Engineer: Jim\n",
      "\n",
      "Combination 70:\n",
      "Python_Programmer1: Peter\n",
      "Python_Programmer2: Bruce\n",
      "AI_Engineer1: Peter\n",
      "AI_Engineer2: Jim\n",
      "AI_Engineer3: Juan\n",
      "Database_Admin: Jane\n",
      "Web_Designer: Anita\n",
      "Systems_Engineer: Mary\n",
      "\n",
      "Combination 71:\n",
      "Python_Programmer1: Peter\n",
      "Python_Programmer2: Bruce\n",
      "AI_Engineer1: Peter\n",
      "AI_Engineer2: Juan\n",
      "AI_Engineer3: Jim\n",
      "Database_Admin: Jane\n",
      "Web_Designer: Anita\n",
      "Systems_Engineer: Mary\n",
      "\n",
      "Combination 72:\n",
      "Python_Programmer1: Peter\n",
      "Python_Programmer2: Bruce\n",
      "AI_Engineer1: Peter\n",
      "AI_Engineer2: Juan\n",
      "AI_Engineer3: Anita\n",
      "Database_Admin: Jane\n",
      "Web_Designer: Mary\n",
      "Systems_Engineer: Jim\n",
      "\n"
     ]
    }
   ],
   "source": [
    "from constraint import Problem\n",
    "\n",
    "def solve_scenario_2():\n",
    "    problem = Problem()\n",
    "\n",
    "    # Define the roles and the candidates for each role\n",
    "    # Jane is removed from Python programmers to avoid her taking two roles\n",
    "    problem.addVariable('Python_Programmer1', ['Peter', 'Bruce'])\n",
    "    problem.addVariable('Python_Programmer2', ['Peter', 'Bruce'])\n",
    "    problem.addVariable('AI_Engineer1', ['Peter', 'Juan', 'Jim', 'Anita'])\n",
    "    problem.addVariable('AI_Engineer2', ['Peter', 'Juan', 'Jim', 'Anita'])\n",
    "    problem.addVariable('AI_Engineer3', ['Peter', 'Juan', 'Jim', 'Anita'])\n",
    "    problem.addVariable('Web_Designer', ['Mary', 'Anita'])\n",
    "    problem.addVariable('Database_Admin', ['Jane'])  # Only Jane is eligible\n",
    "    problem.addVariable('Systems_Engineer', ['Jim', 'Mary', 'Bruce'])\n",
    "\n",
    "    # Constraint to ensure each candidate is assigned to only one role\n",
    "    problem.addConstraint(lambda pp1, pp2, ae1, ae2, ae3, wd, da, se: len({pp1, pp2, ae1, ae2, ae3, wd, da, se}) == 7,\n",
    "                          ['Python_Programmer1', 'Python_Programmer2', 'AI_Engineer1', 'AI_Engineer2', 'AI_Engineer3', 'Web_Designer', 'Database_Admin', 'Systems_Engineer'])\n",
    "\n",
    "    # Constraint to ensure that there are 2 distinct Python Programmers and 3 distinct AI Engineers\n",
    "    problem.addConstraint(lambda pp1, pp2: pp1 != pp2, ['Python_Programmer1', 'Python_Programmer2'])\n",
    "    problem.addConstraint(lambda ae1, ae2, ae3: len({ae1, ae2, ae3}) == 3, ['AI_Engineer1', 'AI_Engineer2', 'AI_Engineer3'])\n",
    "\n",
    "    # Find solutions\n",
    "    solutions = problem.getSolutions()\n",
    "    return solutions\n",
    "\n",
    "# Run the function and format the output\n",
    "solutions = solve_scenario_2()\n",
    "if solutions:\n",
    "    print(f\"Total number of valid combinations: {len(solutions)}\")\n",
    "    for index, solution in enumerate(solutions, start=1):\n",
    "        print(f\"Combination {index}:\")\n",
    "        for role, candidate in solution.items():\n",
    "            print(f\"{role}: {candidate}\")\n",
    "        print()\n",
    "else:\n",
    "    print(\"No valid combinations found.\")\n"
   ]
  },
  {
   "cell_type": "markdown",
   "id": "3051a499",
   "metadata": {},
   "source": [
    "### Adapting Depth First Search (DFS) to Scenario 2"
   ]
  },
  {
   "cell_type": "code",
   "execution_count": 1,
   "id": "4b76ad45",
   "metadata": {},
   "outputs": [],
   "source": [
    "def dfs(assignments, roles, candidates, index=0):\n",
    "    if index == len(roles):\n",
    "        print(assignments)\n",
    "        return\n",
    "    \n",
    "    for candidate in candidates[roles[index]]:\n",
    "        if candidate not in assignments:\n",
    "            assignments.append(candidate)\n",
    "            dfs(assignments, roles, candidates, index + 1)\n",
    "            assignments.pop()\n",
    "\n",
    "roles = [\"Python_Programmer\", \"Python_Programmer\", \"AI_Engineer\", \"AI_Engineer\", \"AI_Engineer\", \"Web_Designer\", \"Database_Admin\", \"Systems_Engineer\"]\n",
    "candidates = {\n",
    "    \"Python_Programmer\": [\"Peter\", \"Jane\", \"Bruce\"],\n",
    "    \"AI_Engineer\": [\"Peter\", \"Juan\", \"Jim\", \"Anita\"],\n",
    "    \"Web_Designer\": [\"Mary\", \"Anita\"],\n",
    "    \"Database_Admin\": [\"Jane\"],\n",
    "    \"Systems_Engineer\": [\"Jim\", \"Mary\", \"Bruce\"]\n",
    "}\n",
    "\n",
    "dfs([], roles, candidates)\n"
   ]
  },
  {
   "cell_type": "markdown",
   "id": "45e9d579",
   "metadata": {},
   "source": [
    "### Data Visualisation task showing the CSP graph for scenario 1"
   ]
  },
  {
   "cell_type": "code",
   "execution_count": 34,
   "id": "bb682c87",
   "metadata": {
    "scrolled": false
   },
   "outputs": [
    {
     "data": {
      "application/vnd.plotly.v1+json": {
       "config": {
        "plotlyServerURL": "https://plot.ly"
       },
       "data": [
        {
         "hoverinfo": "text",
         "hovertext": "Python Programmer: Ciara, Jane",
         "name": "Combination 1",
         "type": "bar",
         "x": [
          "Python Programmer"
         ],
         "y": [
          2
         ]
        },
        {
         "hoverinfo": "text",
         "hovertext": "AI Engineer: Anita, Jim",
         "name": "Combination 1",
         "type": "bar",
         "x": [
          "AI Engineer"
         ],
         "y": [
          2
         ]
        },
        {
         "hoverinfo": "text",
         "hovertext": "Web Designer: Anita",
         "name": "Combination 1",
         "type": "bar",
         "x": [
          "Web Designer"
         ],
         "y": [
          1
         ]
        },
        {
         "hoverinfo": "text",
         "hovertext": "Database Admin: Jane",
         "name": "Combination 1",
         "type": "bar",
         "x": [
          "Database Admin"
         ],
         "y": [
          1
         ]
        },
        {
         "hoverinfo": "text",
         "hovertext": "Systems Engineer: Jim",
         "name": "Combination 1",
         "type": "bar",
         "x": [
          "Systems Engineer"
         ],
         "y": [
          1
         ]
        },
        {
         "hoverinfo": "text",
         "hovertext": "Python Programmer: Ciara, Jane",
         "name": "Combination 2",
         "type": "bar",
         "x": [
          "Python Programmer"
         ],
         "y": [
          2
         ]
        },
        {
         "hoverinfo": "text",
         "hovertext": "AI Engineer: Jim, Anita",
         "name": "Combination 2",
         "type": "bar",
         "x": [
          "AI Engineer"
         ],
         "y": [
          2
         ]
        },
        {
         "hoverinfo": "text",
         "hovertext": "Web Designer: Anita",
         "name": "Combination 2",
         "type": "bar",
         "x": [
          "Web Designer"
         ],
         "y": [
          1
         ]
        },
        {
         "hoverinfo": "text",
         "hovertext": "Database Admin: Jane",
         "name": "Combination 2",
         "type": "bar",
         "x": [
          "Database Admin"
         ],
         "y": [
          1
         ]
        },
        {
         "hoverinfo": "text",
         "hovertext": "Systems Engineer: Jim",
         "name": "Combination 2",
         "type": "bar",
         "x": [
          "Systems Engineer"
         ],
         "y": [
          1
         ]
        },
        {
         "hoverinfo": "text",
         "hovertext": "Python Programmer: Ciara, Jane",
         "name": "Combination 3",
         "type": "bar",
         "x": [
          "Python Programmer"
         ],
         "y": [
          2
         ]
        },
        {
         "hoverinfo": "text",
         "hovertext": "AI Engineer: Jim, Juan",
         "name": "Combination 3",
         "type": "bar",
         "x": [
          "AI Engineer"
         ],
         "y": [
          2
         ]
        },
        {
         "hoverinfo": "text",
         "hovertext": "Web Designer: Juan",
         "name": "Combination 3",
         "type": "bar",
         "x": [
          "Web Designer"
         ],
         "y": [
          1
         ]
        },
        {
         "hoverinfo": "text",
         "hovertext": "Database Admin: Jane",
         "name": "Combination 3",
         "type": "bar",
         "x": [
          "Database Admin"
         ],
         "y": [
          1
         ]
        },
        {
         "hoverinfo": "text",
         "hovertext": "Systems Engineer: Jim",
         "name": "Combination 3",
         "type": "bar",
         "x": [
          "Systems Engineer"
         ],
         "y": [
          1
         ]
        },
        {
         "hoverinfo": "text",
         "hovertext": "Python Programmer: Ciara, Jane",
         "name": "Combination 4",
         "type": "bar",
         "x": [
          "Python Programmer"
         ],
         "y": [
          2
         ]
        },
        {
         "hoverinfo": "text",
         "hovertext": "AI Engineer: Juan, Jim",
         "name": "Combination 4",
         "type": "bar",
         "x": [
          "AI Engineer"
         ],
         "y": [
          2
         ]
        },
        {
         "hoverinfo": "text",
         "hovertext": "Web Designer: Juan",
         "name": "Combination 4",
         "type": "bar",
         "x": [
          "Web Designer"
         ],
         "y": [
          1
         ]
        },
        {
         "hoverinfo": "text",
         "hovertext": "Database Admin: Jane",
         "name": "Combination 4",
         "type": "bar",
         "x": [
          "Database Admin"
         ],
         "y": [
          1
         ]
        },
        {
         "hoverinfo": "text",
         "hovertext": "Systems Engineer: Jim",
         "name": "Combination 4",
         "type": "bar",
         "x": [
          "Systems Engineer"
         ],
         "y": [
          1
         ]
        }
       ],
       "layout": {
        "barmode": "group",
        "hovermode": "closest",
        "template": {
         "data": {
          "bar": [
           {
            "error_x": {
             "color": "#2a3f5f"
            },
            "error_y": {
             "color": "#2a3f5f"
            },
            "marker": {
             "line": {
              "color": "#E5ECF6",
              "width": 0.5
             },
             "pattern": {
              "fillmode": "overlay",
              "size": 10,
              "solidity": 0.2
             }
            },
            "type": "bar"
           }
          ],
          "barpolar": [
           {
            "marker": {
             "line": {
              "color": "#E5ECF6",
              "width": 0.5
             },
             "pattern": {
              "fillmode": "overlay",
              "size": 10,
              "solidity": 0.2
             }
            },
            "type": "barpolar"
           }
          ],
          "carpet": [
           {
            "aaxis": {
             "endlinecolor": "#2a3f5f",
             "gridcolor": "white",
             "linecolor": "white",
             "minorgridcolor": "white",
             "startlinecolor": "#2a3f5f"
            },
            "baxis": {
             "endlinecolor": "#2a3f5f",
             "gridcolor": "white",
             "linecolor": "white",
             "minorgridcolor": "white",
             "startlinecolor": "#2a3f5f"
            },
            "type": "carpet"
           }
          ],
          "choropleth": [
           {
            "colorbar": {
             "outlinewidth": 0,
             "ticks": ""
            },
            "type": "choropleth"
           }
          ],
          "contour": [
           {
            "colorbar": {
             "outlinewidth": 0,
             "ticks": ""
            },
            "colorscale": [
             [
              0,
              "#0d0887"
             ],
             [
              0.1111111111111111,
              "#46039f"
             ],
             [
              0.2222222222222222,
              "#7201a8"
             ],
             [
              0.3333333333333333,
              "#9c179e"
             ],
             [
              0.4444444444444444,
              "#bd3786"
             ],
             [
              0.5555555555555556,
              "#d8576b"
             ],
             [
              0.6666666666666666,
              "#ed7953"
             ],
             [
              0.7777777777777778,
              "#fb9f3a"
             ],
             [
              0.8888888888888888,
              "#fdca26"
             ],
             [
              1,
              "#f0f921"
             ]
            ],
            "type": "contour"
           }
          ],
          "contourcarpet": [
           {
            "colorbar": {
             "outlinewidth": 0,
             "ticks": ""
            },
            "type": "contourcarpet"
           }
          ],
          "heatmap": [
           {
            "colorbar": {
             "outlinewidth": 0,
             "ticks": ""
            },
            "colorscale": [
             [
              0,
              "#0d0887"
             ],
             [
              0.1111111111111111,
              "#46039f"
             ],
             [
              0.2222222222222222,
              "#7201a8"
             ],
             [
              0.3333333333333333,
              "#9c179e"
             ],
             [
              0.4444444444444444,
              "#bd3786"
             ],
             [
              0.5555555555555556,
              "#d8576b"
             ],
             [
              0.6666666666666666,
              "#ed7953"
             ],
             [
              0.7777777777777778,
              "#fb9f3a"
             ],
             [
              0.8888888888888888,
              "#fdca26"
             ],
             [
              1,
              "#f0f921"
             ]
            ],
            "type": "heatmap"
           }
          ],
          "heatmapgl": [
           {
            "colorbar": {
             "outlinewidth": 0,
             "ticks": ""
            },
            "colorscale": [
             [
              0,
              "#0d0887"
             ],
             [
              0.1111111111111111,
              "#46039f"
             ],
             [
              0.2222222222222222,
              "#7201a8"
             ],
             [
              0.3333333333333333,
              "#9c179e"
             ],
             [
              0.4444444444444444,
              "#bd3786"
             ],
             [
              0.5555555555555556,
              "#d8576b"
             ],
             [
              0.6666666666666666,
              "#ed7953"
             ],
             [
              0.7777777777777778,
              "#fb9f3a"
             ],
             [
              0.8888888888888888,
              "#fdca26"
             ],
             [
              1,
              "#f0f921"
             ]
            ],
            "type": "heatmapgl"
           }
          ],
          "histogram": [
           {
            "marker": {
             "pattern": {
              "fillmode": "overlay",
              "size": 10,
              "solidity": 0.2
             }
            },
            "type": "histogram"
           }
          ],
          "histogram2d": [
           {
            "colorbar": {
             "outlinewidth": 0,
             "ticks": ""
            },
            "colorscale": [
             [
              0,
              "#0d0887"
             ],
             [
              0.1111111111111111,
              "#46039f"
             ],
             [
              0.2222222222222222,
              "#7201a8"
             ],
             [
              0.3333333333333333,
              "#9c179e"
             ],
             [
              0.4444444444444444,
              "#bd3786"
             ],
             [
              0.5555555555555556,
              "#d8576b"
             ],
             [
              0.6666666666666666,
              "#ed7953"
             ],
             [
              0.7777777777777778,
              "#fb9f3a"
             ],
             [
              0.8888888888888888,
              "#fdca26"
             ],
             [
              1,
              "#f0f921"
             ]
            ],
            "type": "histogram2d"
           }
          ],
          "histogram2dcontour": [
           {
            "colorbar": {
             "outlinewidth": 0,
             "ticks": ""
            },
            "colorscale": [
             [
              0,
              "#0d0887"
             ],
             [
              0.1111111111111111,
              "#46039f"
             ],
             [
              0.2222222222222222,
              "#7201a8"
             ],
             [
              0.3333333333333333,
              "#9c179e"
             ],
             [
              0.4444444444444444,
              "#bd3786"
             ],
             [
              0.5555555555555556,
              "#d8576b"
             ],
             [
              0.6666666666666666,
              "#ed7953"
             ],
             [
              0.7777777777777778,
              "#fb9f3a"
             ],
             [
              0.8888888888888888,
              "#fdca26"
             ],
             [
              1,
              "#f0f921"
             ]
            ],
            "type": "histogram2dcontour"
           }
          ],
          "mesh3d": [
           {
            "colorbar": {
             "outlinewidth": 0,
             "ticks": ""
            },
            "type": "mesh3d"
           }
          ],
          "parcoords": [
           {
            "line": {
             "colorbar": {
              "outlinewidth": 0,
              "ticks": ""
             }
            },
            "type": "parcoords"
           }
          ],
          "pie": [
           {
            "automargin": true,
            "type": "pie"
           }
          ],
          "scatter": [
           {
            "fillpattern": {
             "fillmode": "overlay",
             "size": 10,
             "solidity": 0.2
            },
            "type": "scatter"
           }
          ],
          "scatter3d": [
           {
            "line": {
             "colorbar": {
              "outlinewidth": 0,
              "ticks": ""
             }
            },
            "marker": {
             "colorbar": {
              "outlinewidth": 0,
              "ticks": ""
             }
            },
            "type": "scatter3d"
           }
          ],
          "scattercarpet": [
           {
            "marker": {
             "colorbar": {
              "outlinewidth": 0,
              "ticks": ""
             }
            },
            "type": "scattercarpet"
           }
          ],
          "scattergeo": [
           {
            "marker": {
             "colorbar": {
              "outlinewidth": 0,
              "ticks": ""
             }
            },
            "type": "scattergeo"
           }
          ],
          "scattergl": [
           {
            "marker": {
             "colorbar": {
              "outlinewidth": 0,
              "ticks": ""
             }
            },
            "type": "scattergl"
           }
          ],
          "scattermapbox": [
           {
            "marker": {
             "colorbar": {
              "outlinewidth": 0,
              "ticks": ""
             }
            },
            "type": "scattermapbox"
           }
          ],
          "scatterpolar": [
           {
            "marker": {
             "colorbar": {
              "outlinewidth": 0,
              "ticks": ""
             }
            },
            "type": "scatterpolar"
           }
          ],
          "scatterpolargl": [
           {
            "marker": {
             "colorbar": {
              "outlinewidth": 0,
              "ticks": ""
             }
            },
            "type": "scatterpolargl"
           }
          ],
          "scatterternary": [
           {
            "marker": {
             "colorbar": {
              "outlinewidth": 0,
              "ticks": ""
             }
            },
            "type": "scatterternary"
           }
          ],
          "surface": [
           {
            "colorbar": {
             "outlinewidth": 0,
             "ticks": ""
            },
            "colorscale": [
             [
              0,
              "#0d0887"
             ],
             [
              0.1111111111111111,
              "#46039f"
             ],
             [
              0.2222222222222222,
              "#7201a8"
             ],
             [
              0.3333333333333333,
              "#9c179e"
             ],
             [
              0.4444444444444444,
              "#bd3786"
             ],
             [
              0.5555555555555556,
              "#d8576b"
             ],
             [
              0.6666666666666666,
              "#ed7953"
             ],
             [
              0.7777777777777778,
              "#fb9f3a"
             ],
             [
              0.8888888888888888,
              "#fdca26"
             ],
             [
              1,
              "#f0f921"
             ]
            ],
            "type": "surface"
           }
          ],
          "table": [
           {
            "cells": {
             "fill": {
              "color": "#EBF0F8"
             },
             "line": {
              "color": "white"
             }
            },
            "header": {
             "fill": {
              "color": "#C8D4E3"
             },
             "line": {
              "color": "white"
             }
            },
            "type": "table"
           }
          ]
         },
         "layout": {
          "annotationdefaults": {
           "arrowcolor": "#2a3f5f",
           "arrowhead": 0,
           "arrowwidth": 1
          },
          "autotypenumbers": "strict",
          "coloraxis": {
           "colorbar": {
            "outlinewidth": 0,
            "ticks": ""
           }
          },
          "colorscale": {
           "diverging": [
            [
             0,
             "#8e0152"
            ],
            [
             0.1,
             "#c51b7d"
            ],
            [
             0.2,
             "#de77ae"
            ],
            [
             0.3,
             "#f1b6da"
            ],
            [
             0.4,
             "#fde0ef"
            ],
            [
             0.5,
             "#f7f7f7"
            ],
            [
             0.6,
             "#e6f5d0"
            ],
            [
             0.7,
             "#b8e186"
            ],
            [
             0.8,
             "#7fbc41"
            ],
            [
             0.9,
             "#4d9221"
            ],
            [
             1,
             "#276419"
            ]
           ],
           "sequential": [
            [
             0,
             "#0d0887"
            ],
            [
             0.1111111111111111,
             "#46039f"
            ],
            [
             0.2222222222222222,
             "#7201a8"
            ],
            [
             0.3333333333333333,
             "#9c179e"
            ],
            [
             0.4444444444444444,
             "#bd3786"
            ],
            [
             0.5555555555555556,
             "#d8576b"
            ],
            [
             0.6666666666666666,
             "#ed7953"
            ],
            [
             0.7777777777777778,
             "#fb9f3a"
            ],
            [
             0.8888888888888888,
             "#fdca26"
            ],
            [
             1,
             "#f0f921"
            ]
           ],
           "sequentialminus": [
            [
             0,
             "#0d0887"
            ],
            [
             0.1111111111111111,
             "#46039f"
            ],
            [
             0.2222222222222222,
             "#7201a8"
            ],
            [
             0.3333333333333333,
             "#9c179e"
            ],
            [
             0.4444444444444444,
             "#bd3786"
            ],
            [
             0.5555555555555556,
             "#d8576b"
            ],
            [
             0.6666666666666666,
             "#ed7953"
            ],
            [
             0.7777777777777778,
             "#fb9f3a"
            ],
            [
             0.8888888888888888,
             "#fdca26"
            ],
            [
             1,
             "#f0f921"
            ]
           ]
          },
          "colorway": [
           "#636efa",
           "#EF553B",
           "#00cc96",
           "#ab63fa",
           "#FFA15A",
           "#19d3f3",
           "#FF6692",
           "#B6E880",
           "#FF97FF",
           "#FECB52"
          ],
          "font": {
           "color": "#2a3f5f"
          },
          "geo": {
           "bgcolor": "white",
           "lakecolor": "white",
           "landcolor": "#E5ECF6",
           "showlakes": true,
           "showland": true,
           "subunitcolor": "white"
          },
          "hoverlabel": {
           "align": "left"
          },
          "hovermode": "closest",
          "mapbox": {
           "style": "light"
          },
          "paper_bgcolor": "white",
          "plot_bgcolor": "#E5ECF6",
          "polar": {
           "angularaxis": {
            "gridcolor": "white",
            "linecolor": "white",
            "ticks": ""
           },
           "bgcolor": "#E5ECF6",
           "radialaxis": {
            "gridcolor": "white",
            "linecolor": "white",
            "ticks": ""
           }
          },
          "scene": {
           "xaxis": {
            "backgroundcolor": "#E5ECF6",
            "gridcolor": "white",
            "gridwidth": 2,
            "linecolor": "white",
            "showbackground": true,
            "ticks": "",
            "zerolinecolor": "white"
           },
           "yaxis": {
            "backgroundcolor": "#E5ECF6",
            "gridcolor": "white",
            "gridwidth": 2,
            "linecolor": "white",
            "showbackground": true,
            "ticks": "",
            "zerolinecolor": "white"
           },
           "zaxis": {
            "backgroundcolor": "#E5ECF6",
            "gridcolor": "white",
            "gridwidth": 2,
            "linecolor": "white",
            "showbackground": true,
            "ticks": "",
            "zerolinecolor": "white"
           }
          },
          "shapedefaults": {
           "line": {
            "color": "#2a3f5f"
           }
          },
          "ternary": {
           "aaxis": {
            "gridcolor": "white",
            "linecolor": "white",
            "ticks": ""
           },
           "baxis": {
            "gridcolor": "white",
            "linecolor": "white",
            "ticks": ""
           },
           "bgcolor": "#E5ECF6",
           "caxis": {
            "gridcolor": "white",
            "linecolor": "white",
            "ticks": ""
           }
          },
          "title": {
           "x": 0.05
          },
          "xaxis": {
           "automargin": true,
           "gridcolor": "white",
           "linecolor": "white",
           "ticks": "",
           "title": {
            "standoff": 15
           },
           "zerolinecolor": "white",
           "zerolinewidth": 2
          },
          "yaxis": {
           "automargin": true,
           "gridcolor": "white",
           "linecolor": "white",
           "ticks": "",
           "title": {
            "standoff": 15
           },
           "zerolinecolor": "white",
           "zerolinewidth": 2
          }
         }
        },
        "title": {
         "text": "Comparative Analysis of Role Distribution in CSP Scenario 1"
        },
        "xaxis": {
         "title": {
          "text": "Roles"
         }
        },
        "yaxis": {
         "title": {
          "text": "Number of Candidates"
         }
        }
       }
      },
      "text/html": [
       "<div>                            <div id=\"5a445a62-370b-4616-bd0a-1a2e9cd0ed71\" class=\"plotly-graph-div\" style=\"height:525px; width:100%;\"></div>            <script type=\"text/javascript\">                require([\"plotly\"], function(Plotly) {                    window.PLOTLYENV=window.PLOTLYENV || {};                                    if (document.getElementById(\"5a445a62-370b-4616-bd0a-1a2e9cd0ed71\")) {                    Plotly.newPlot(                        \"5a445a62-370b-4616-bd0a-1a2e9cd0ed71\",                        [{\"hoverinfo\":\"text\",\"hovertext\":\"Python Programmer: Ciara, Jane\",\"name\":\"Combination 1\",\"x\":[\"Python Programmer\"],\"y\":[2],\"type\":\"bar\"},{\"hoverinfo\":\"text\",\"hovertext\":\"AI Engineer: Anita, Jim\",\"name\":\"Combination 1\",\"x\":[\"AI Engineer\"],\"y\":[2],\"type\":\"bar\"},{\"hoverinfo\":\"text\",\"hovertext\":\"Web Designer: Anita\",\"name\":\"Combination 1\",\"x\":[\"Web Designer\"],\"y\":[1],\"type\":\"bar\"},{\"hoverinfo\":\"text\",\"hovertext\":\"Database Admin: Jane\",\"name\":\"Combination 1\",\"x\":[\"Database Admin\"],\"y\":[1],\"type\":\"bar\"},{\"hoverinfo\":\"text\",\"hovertext\":\"Systems Engineer: Jim\",\"name\":\"Combination 1\",\"x\":[\"Systems Engineer\"],\"y\":[1],\"type\":\"bar\"},{\"hoverinfo\":\"text\",\"hovertext\":\"Python Programmer: Ciara, Jane\",\"name\":\"Combination 2\",\"x\":[\"Python Programmer\"],\"y\":[2],\"type\":\"bar\"},{\"hoverinfo\":\"text\",\"hovertext\":\"AI Engineer: Jim, Anita\",\"name\":\"Combination 2\",\"x\":[\"AI Engineer\"],\"y\":[2],\"type\":\"bar\"},{\"hoverinfo\":\"text\",\"hovertext\":\"Web Designer: Anita\",\"name\":\"Combination 2\",\"x\":[\"Web Designer\"],\"y\":[1],\"type\":\"bar\"},{\"hoverinfo\":\"text\",\"hovertext\":\"Database Admin: Jane\",\"name\":\"Combination 2\",\"x\":[\"Database Admin\"],\"y\":[1],\"type\":\"bar\"},{\"hoverinfo\":\"text\",\"hovertext\":\"Systems Engineer: Jim\",\"name\":\"Combination 2\",\"x\":[\"Systems Engineer\"],\"y\":[1],\"type\":\"bar\"},{\"hoverinfo\":\"text\",\"hovertext\":\"Python Programmer: Ciara, Jane\",\"name\":\"Combination 3\",\"x\":[\"Python Programmer\"],\"y\":[2],\"type\":\"bar\"},{\"hoverinfo\":\"text\",\"hovertext\":\"AI Engineer: Jim, Juan\",\"name\":\"Combination 3\",\"x\":[\"AI Engineer\"],\"y\":[2],\"type\":\"bar\"},{\"hoverinfo\":\"text\",\"hovertext\":\"Web Designer: Juan\",\"name\":\"Combination 3\",\"x\":[\"Web Designer\"],\"y\":[1],\"type\":\"bar\"},{\"hoverinfo\":\"text\",\"hovertext\":\"Database Admin: Jane\",\"name\":\"Combination 3\",\"x\":[\"Database Admin\"],\"y\":[1],\"type\":\"bar\"},{\"hoverinfo\":\"text\",\"hovertext\":\"Systems Engineer: Jim\",\"name\":\"Combination 3\",\"x\":[\"Systems Engineer\"],\"y\":[1],\"type\":\"bar\"},{\"hoverinfo\":\"text\",\"hovertext\":\"Python Programmer: Ciara, Jane\",\"name\":\"Combination 4\",\"x\":[\"Python Programmer\"],\"y\":[2],\"type\":\"bar\"},{\"hoverinfo\":\"text\",\"hovertext\":\"AI Engineer: Juan, Jim\",\"name\":\"Combination 4\",\"x\":[\"AI Engineer\"],\"y\":[2],\"type\":\"bar\"},{\"hoverinfo\":\"text\",\"hovertext\":\"Web Designer: Juan\",\"name\":\"Combination 4\",\"x\":[\"Web Designer\"],\"y\":[1],\"type\":\"bar\"},{\"hoverinfo\":\"text\",\"hovertext\":\"Database Admin: Jane\",\"name\":\"Combination 4\",\"x\":[\"Database Admin\"],\"y\":[1],\"type\":\"bar\"},{\"hoverinfo\":\"text\",\"hovertext\":\"Systems Engineer: Jim\",\"name\":\"Combination 4\",\"x\":[\"Systems Engineer\"],\"y\":[1],\"type\":\"bar\"}],                        {\"template\":{\"data\":{\"histogram2dcontour\":[{\"type\":\"histogram2dcontour\",\"colorbar\":{\"outlinewidth\":0,\"ticks\":\"\"},\"colorscale\":[[0.0,\"#0d0887\"],[0.1111111111111111,\"#46039f\"],[0.2222222222222222,\"#7201a8\"],[0.3333333333333333,\"#9c179e\"],[0.4444444444444444,\"#bd3786\"],[0.5555555555555556,\"#d8576b\"],[0.6666666666666666,\"#ed7953\"],[0.7777777777777778,\"#fb9f3a\"],[0.8888888888888888,\"#fdca26\"],[1.0,\"#f0f921\"]]}],\"choropleth\":[{\"type\":\"choropleth\",\"colorbar\":{\"outlinewidth\":0,\"ticks\":\"\"}}],\"histogram2d\":[{\"type\":\"histogram2d\",\"colorbar\":{\"outlinewidth\":0,\"ticks\":\"\"},\"colorscale\":[[0.0,\"#0d0887\"],[0.1111111111111111,\"#46039f\"],[0.2222222222222222,\"#7201a8\"],[0.3333333333333333,\"#9c179e\"],[0.4444444444444444,\"#bd3786\"],[0.5555555555555556,\"#d8576b\"],[0.6666666666666666,\"#ed7953\"],[0.7777777777777778,\"#fb9f3a\"],[0.8888888888888888,\"#fdca26\"],[1.0,\"#f0f921\"]]}],\"heatmap\":[{\"type\":\"heatmap\",\"colorbar\":{\"outlinewidth\":0,\"ticks\":\"\"},\"colorscale\":[[0.0,\"#0d0887\"],[0.1111111111111111,\"#46039f\"],[0.2222222222222222,\"#7201a8\"],[0.3333333333333333,\"#9c179e\"],[0.4444444444444444,\"#bd3786\"],[0.5555555555555556,\"#d8576b\"],[0.6666666666666666,\"#ed7953\"],[0.7777777777777778,\"#fb9f3a\"],[0.8888888888888888,\"#fdca26\"],[1.0,\"#f0f921\"]]}],\"heatmapgl\":[{\"type\":\"heatmapgl\",\"colorbar\":{\"outlinewidth\":0,\"ticks\":\"\"},\"colorscale\":[[0.0,\"#0d0887\"],[0.1111111111111111,\"#46039f\"],[0.2222222222222222,\"#7201a8\"],[0.3333333333333333,\"#9c179e\"],[0.4444444444444444,\"#bd3786\"],[0.5555555555555556,\"#d8576b\"],[0.6666666666666666,\"#ed7953\"],[0.7777777777777778,\"#fb9f3a\"],[0.8888888888888888,\"#fdca26\"],[1.0,\"#f0f921\"]]}],\"contourcarpet\":[{\"type\":\"contourcarpet\",\"colorbar\":{\"outlinewidth\":0,\"ticks\":\"\"}}],\"contour\":[{\"type\":\"contour\",\"colorbar\":{\"outlinewidth\":0,\"ticks\":\"\"},\"colorscale\":[[0.0,\"#0d0887\"],[0.1111111111111111,\"#46039f\"],[0.2222222222222222,\"#7201a8\"],[0.3333333333333333,\"#9c179e\"],[0.4444444444444444,\"#bd3786\"],[0.5555555555555556,\"#d8576b\"],[0.6666666666666666,\"#ed7953\"],[0.7777777777777778,\"#fb9f3a\"],[0.8888888888888888,\"#fdca26\"],[1.0,\"#f0f921\"]]}],\"surface\":[{\"type\":\"surface\",\"colorbar\":{\"outlinewidth\":0,\"ticks\":\"\"},\"colorscale\":[[0.0,\"#0d0887\"],[0.1111111111111111,\"#46039f\"],[0.2222222222222222,\"#7201a8\"],[0.3333333333333333,\"#9c179e\"],[0.4444444444444444,\"#bd3786\"],[0.5555555555555556,\"#d8576b\"],[0.6666666666666666,\"#ed7953\"],[0.7777777777777778,\"#fb9f3a\"],[0.8888888888888888,\"#fdca26\"],[1.0,\"#f0f921\"]]}],\"mesh3d\":[{\"type\":\"mesh3d\",\"colorbar\":{\"outlinewidth\":0,\"ticks\":\"\"}}],\"scatter\":[{\"fillpattern\":{\"fillmode\":\"overlay\",\"size\":10,\"solidity\":0.2},\"type\":\"scatter\"}],\"parcoords\":[{\"type\":\"parcoords\",\"line\":{\"colorbar\":{\"outlinewidth\":0,\"ticks\":\"\"}}}],\"scatterpolargl\":[{\"type\":\"scatterpolargl\",\"marker\":{\"colorbar\":{\"outlinewidth\":0,\"ticks\":\"\"}}}],\"bar\":[{\"error_x\":{\"color\":\"#2a3f5f\"},\"error_y\":{\"color\":\"#2a3f5f\"},\"marker\":{\"line\":{\"color\":\"#E5ECF6\",\"width\":0.5},\"pattern\":{\"fillmode\":\"overlay\",\"size\":10,\"solidity\":0.2}},\"type\":\"bar\"}],\"scattergeo\":[{\"type\":\"scattergeo\",\"marker\":{\"colorbar\":{\"outlinewidth\":0,\"ticks\":\"\"}}}],\"scatterpolar\":[{\"type\":\"scatterpolar\",\"marker\":{\"colorbar\":{\"outlinewidth\":0,\"ticks\":\"\"}}}],\"histogram\":[{\"marker\":{\"pattern\":{\"fillmode\":\"overlay\",\"size\":10,\"solidity\":0.2}},\"type\":\"histogram\"}],\"scattergl\":[{\"type\":\"scattergl\",\"marker\":{\"colorbar\":{\"outlinewidth\":0,\"ticks\":\"\"}}}],\"scatter3d\":[{\"type\":\"scatter3d\",\"line\":{\"colorbar\":{\"outlinewidth\":0,\"ticks\":\"\"}},\"marker\":{\"colorbar\":{\"outlinewidth\":0,\"ticks\":\"\"}}}],\"scattermapbox\":[{\"type\":\"scattermapbox\",\"marker\":{\"colorbar\":{\"outlinewidth\":0,\"ticks\":\"\"}}}],\"scatterternary\":[{\"type\":\"scatterternary\",\"marker\":{\"colorbar\":{\"outlinewidth\":0,\"ticks\":\"\"}}}],\"scattercarpet\":[{\"type\":\"scattercarpet\",\"marker\":{\"colorbar\":{\"outlinewidth\":0,\"ticks\":\"\"}}}],\"carpet\":[{\"aaxis\":{\"endlinecolor\":\"#2a3f5f\",\"gridcolor\":\"white\",\"linecolor\":\"white\",\"minorgridcolor\":\"white\",\"startlinecolor\":\"#2a3f5f\"},\"baxis\":{\"endlinecolor\":\"#2a3f5f\",\"gridcolor\":\"white\",\"linecolor\":\"white\",\"minorgridcolor\":\"white\",\"startlinecolor\":\"#2a3f5f\"},\"type\":\"carpet\"}],\"table\":[{\"cells\":{\"fill\":{\"color\":\"#EBF0F8\"},\"line\":{\"color\":\"white\"}},\"header\":{\"fill\":{\"color\":\"#C8D4E3\"},\"line\":{\"color\":\"white\"}},\"type\":\"table\"}],\"barpolar\":[{\"marker\":{\"line\":{\"color\":\"#E5ECF6\",\"width\":0.5},\"pattern\":{\"fillmode\":\"overlay\",\"size\":10,\"solidity\":0.2}},\"type\":\"barpolar\"}],\"pie\":[{\"automargin\":true,\"type\":\"pie\"}]},\"layout\":{\"autotypenumbers\":\"strict\",\"colorway\":[\"#636efa\",\"#EF553B\",\"#00cc96\",\"#ab63fa\",\"#FFA15A\",\"#19d3f3\",\"#FF6692\",\"#B6E880\",\"#FF97FF\",\"#FECB52\"],\"font\":{\"color\":\"#2a3f5f\"},\"hovermode\":\"closest\",\"hoverlabel\":{\"align\":\"left\"},\"paper_bgcolor\":\"white\",\"plot_bgcolor\":\"#E5ECF6\",\"polar\":{\"bgcolor\":\"#E5ECF6\",\"angularaxis\":{\"gridcolor\":\"white\",\"linecolor\":\"white\",\"ticks\":\"\"},\"radialaxis\":{\"gridcolor\":\"white\",\"linecolor\":\"white\",\"ticks\":\"\"}},\"ternary\":{\"bgcolor\":\"#E5ECF6\",\"aaxis\":{\"gridcolor\":\"white\",\"linecolor\":\"white\",\"ticks\":\"\"},\"baxis\":{\"gridcolor\":\"white\",\"linecolor\":\"white\",\"ticks\":\"\"},\"caxis\":{\"gridcolor\":\"white\",\"linecolor\":\"white\",\"ticks\":\"\"}},\"coloraxis\":{\"colorbar\":{\"outlinewidth\":0,\"ticks\":\"\"}},\"colorscale\":{\"sequential\":[[0.0,\"#0d0887\"],[0.1111111111111111,\"#46039f\"],[0.2222222222222222,\"#7201a8\"],[0.3333333333333333,\"#9c179e\"],[0.4444444444444444,\"#bd3786\"],[0.5555555555555556,\"#d8576b\"],[0.6666666666666666,\"#ed7953\"],[0.7777777777777778,\"#fb9f3a\"],[0.8888888888888888,\"#fdca26\"],[1.0,\"#f0f921\"]],\"sequentialminus\":[[0.0,\"#0d0887\"],[0.1111111111111111,\"#46039f\"],[0.2222222222222222,\"#7201a8\"],[0.3333333333333333,\"#9c179e\"],[0.4444444444444444,\"#bd3786\"],[0.5555555555555556,\"#d8576b\"],[0.6666666666666666,\"#ed7953\"],[0.7777777777777778,\"#fb9f3a\"],[0.8888888888888888,\"#fdca26\"],[1.0,\"#f0f921\"]],\"diverging\":[[0,\"#8e0152\"],[0.1,\"#c51b7d\"],[0.2,\"#de77ae\"],[0.3,\"#f1b6da\"],[0.4,\"#fde0ef\"],[0.5,\"#f7f7f7\"],[0.6,\"#e6f5d0\"],[0.7,\"#b8e186\"],[0.8,\"#7fbc41\"],[0.9,\"#4d9221\"],[1,\"#276419\"]]},\"xaxis\":{\"gridcolor\":\"white\",\"linecolor\":\"white\",\"ticks\":\"\",\"title\":{\"standoff\":15},\"zerolinecolor\":\"white\",\"automargin\":true,\"zerolinewidth\":2},\"yaxis\":{\"gridcolor\":\"white\",\"linecolor\":\"white\",\"ticks\":\"\",\"title\":{\"standoff\":15},\"zerolinecolor\":\"white\",\"automargin\":true,\"zerolinewidth\":2},\"scene\":{\"xaxis\":{\"backgroundcolor\":\"#E5ECF6\",\"gridcolor\":\"white\",\"linecolor\":\"white\",\"showbackground\":true,\"ticks\":\"\",\"zerolinecolor\":\"white\",\"gridwidth\":2},\"yaxis\":{\"backgroundcolor\":\"#E5ECF6\",\"gridcolor\":\"white\",\"linecolor\":\"white\",\"showbackground\":true,\"ticks\":\"\",\"zerolinecolor\":\"white\",\"gridwidth\":2},\"zaxis\":{\"backgroundcolor\":\"#E5ECF6\",\"gridcolor\":\"white\",\"linecolor\":\"white\",\"showbackground\":true,\"ticks\":\"\",\"zerolinecolor\":\"white\",\"gridwidth\":2}},\"shapedefaults\":{\"line\":{\"color\":\"#2a3f5f\"}},\"annotationdefaults\":{\"arrowcolor\":\"#2a3f5f\",\"arrowhead\":0,\"arrowwidth\":1},\"geo\":{\"bgcolor\":\"white\",\"landcolor\":\"#E5ECF6\",\"subunitcolor\":\"white\",\"showland\":true,\"showlakes\":true,\"lakecolor\":\"white\"},\"title\":{\"x\":0.05},\"mapbox\":{\"style\":\"light\"}}},\"barmode\":\"group\",\"title\":{\"text\":\"Comparative Analysis of Role Distribution in CSP Scenario 1\"},\"xaxis\":{\"title\":{\"text\":\"Roles\"}},\"yaxis\":{\"title\":{\"text\":\"Number of Candidates\"}},\"hovermode\":\"closest\"},                        {\"responsive\": true}                    ).then(function(){\n",
       "                            \n",
       "var gd = document.getElementById('5a445a62-370b-4616-bd0a-1a2e9cd0ed71');\n",
       "var x = new MutationObserver(function (mutations, observer) {{\n",
       "        var display = window.getComputedStyle(gd).display;\n",
       "        if (!display || display === 'none') {{\n",
       "            console.log([gd, 'removed!']);\n",
       "            Plotly.purge(gd);\n",
       "            observer.disconnect();\n",
       "        }}\n",
       "}});\n",
       "\n",
       "// Listen for the removal of the full notebook cells\n",
       "var notebookContainer = gd.closest('#notebook-container');\n",
       "if (notebookContainer) {{\n",
       "    x.observe(notebookContainer, {childList: true});\n",
       "}}\n",
       "\n",
       "// Listen for the clearing of the current output cell\n",
       "var outputEl = gd.closest('.output');\n",
       "if (outputEl) {{\n",
       "    x.observe(outputEl, {childList: true});\n",
       "}}\n",
       "\n",
       "                        })                };                });            </script>        </div>"
      ]
     },
     "metadata": {},
     "output_type": "display_data"
    }
   ],
   "source": [
    "import plotly.graph_objs as go\n",
    "\n",
    "# Data for Scenario 1 combinations with candidates' roles\n",
    "combinations = {\n",
    "    \"Combination 1\": {\"Python Programmer\": [\"Ciara\", \"Jane\"], \"AI Engineer\": [\"Anita\", \"Jim\"], \"Web Designer\": [\"Anita\"], \"Database Admin\": [\"Jane\"], \"Systems Engineer\": [\"Jim\"]},\n",
    "    \"Combination 2\": {\"Python Programmer\": [\"Ciara\", \"Jane\"], \"AI Engineer\": [\"Jim\", \"Anita\"], \"Web Designer\": [\"Anita\"], \"Database Admin\": [\"Jane\"], \"Systems Engineer\": [\"Jim\"]},\n",
    "    \"Combination 3\": {\"Python Programmer\": [\"Ciara\", \"Jane\"], \"AI Engineer\": [\"Jim\", \"Juan\"], \"Web Designer\": [\"Juan\"], \"Database Admin\": [\"Jane\"], \"Systems Engineer\": [\"Jim\"]},\n",
    "    \"Combination 4\": {\"Python Programmer\": [\"Ciara\", \"Jane\"], \"AI Engineer\": [\"Juan\", \"Jim\"], \"Web Designer\": [\"Juan\"], \"Database Admin\": [\"Jane\"], \"Systems Engineer\": [\"Jim\"]}\n",
    "}\n",
    "\n",
    "# Roles for the x-axis\n",
    "roles = [\"Python Programmer\", \"AI Engineer\", \"Web Designer\", \"Database Admin\", \"Systems Engineer\"]\n",
    "\n",
    "# Create a grouped bar chart with hover text\n",
    "fig = go.Figure()\n",
    "for combo in combinations.keys():\n",
    "    for role in roles:\n",
    "        candidates = combinations[combo].get(role, [])\n",
    "        hover_text = f\"{role}: \" + \", \".join(candidates)\n",
    "        fig.add_trace(go.Bar(\n",
    "            name=combo, \n",
    "            x=[role], \n",
    "            y=[len(candidates)], \n",
    "            hovertext=hover_text,\n",
    "            hoverinfo=\"text\"\n",
    "        ))\n",
    "\n",
    "# Update layout for better comparison\n",
    "fig.update_layout(\n",
    "    barmode='group',\n",
    "    title=\"Comparative Analysis of Role Distribution in CSP Scenario 1\",\n",
    "    xaxis_title=\"Roles\",\n",
    "    yaxis_title=\"Number of Candidates\",\n",
    "    hovermode=\"closest\"\n",
    ")\n",
    "\n",
    "# Show the plot\n",
    "fig.show()\n"
   ]
  },
  {
   "cell_type": "code",
   "execution_count": null,
   "id": "ca6b2872",
   "metadata": {},
   "outputs": [],
   "source": []
  },
  {
   "cell_type": "code",
   "execution_count": null,
   "id": "83ba009d",
   "metadata": {},
   "outputs": [],
   "source": []
  },
  {
   "cell_type": "code",
   "execution_count": null,
   "id": "0e9a1383",
   "metadata": {},
   "outputs": [],
   "source": []
  },
  {
   "cell_type": "code",
   "execution_count": 50,
   "id": "c65e2b40",
   "metadata": {},
   "outputs": [
    {
     "data": {
      "application/vnd.plotly.v1+json": {
       "config": {
        "plotlyServerURL": "https://plot.ly"
       },
       "data": [
        {
         "colorscale": [
          [
           0,
           "#440154"
          ],
          [
           0.1111111111111111,
           "#482878"
          ],
          [
           0.2222222222222222,
           "#3e4989"
          ],
          [
           0.3333333333333333,
           "#31688e"
          ],
          [
           0.4444444444444444,
           "#26828e"
          ],
          [
           0.5555555555555556,
           "#1f9e89"
          ],
          [
           0.6666666666666666,
           "#35b779"
          ],
          [
           0.7777777777777778,
           "#6ece58"
          ],
          [
           0.8888888888888888,
           "#b5de2b"
          ],
          [
           1,
           "#fde725"
          ]
         ],
         "hoverongaps": false,
         "type": "heatmap",
         "x": [
          "AI Engineer",
          "Database Admin",
          "Python Programmer",
          "Systems Engineer",
          "Web Designer"
         ],
         "y": [
          "Anita",
          "Ciara",
          "Jane",
          "Jim",
          "Juan"
         ],
         "z": [
          [
           1,
           0,
           0,
           0,
           1
          ],
          [
           0,
           0,
           1,
           0,
           0
          ],
          [
           0,
           1,
           1,
           0,
           0
          ],
          [
           1,
           0,
           0,
           1,
           0
          ],
          [
           1,
           0,
           0,
           0,
           1
          ]
         ]
        }
       ],
       "layout": {
        "template": {
         "data": {
          "bar": [
           {
            "error_x": {
             "color": "#2a3f5f"
            },
            "error_y": {
             "color": "#2a3f5f"
            },
            "marker": {
             "line": {
              "color": "#E5ECF6",
              "width": 0.5
             },
             "pattern": {
              "fillmode": "overlay",
              "size": 10,
              "solidity": 0.2
             }
            },
            "type": "bar"
           }
          ],
          "barpolar": [
           {
            "marker": {
             "line": {
              "color": "#E5ECF6",
              "width": 0.5
             },
             "pattern": {
              "fillmode": "overlay",
              "size": 10,
              "solidity": 0.2
             }
            },
            "type": "barpolar"
           }
          ],
          "carpet": [
           {
            "aaxis": {
             "endlinecolor": "#2a3f5f",
             "gridcolor": "white",
             "linecolor": "white",
             "minorgridcolor": "white",
             "startlinecolor": "#2a3f5f"
            },
            "baxis": {
             "endlinecolor": "#2a3f5f",
             "gridcolor": "white",
             "linecolor": "white",
             "minorgridcolor": "white",
             "startlinecolor": "#2a3f5f"
            },
            "type": "carpet"
           }
          ],
          "choropleth": [
           {
            "colorbar": {
             "outlinewidth": 0,
             "ticks": ""
            },
            "type": "choropleth"
           }
          ],
          "contour": [
           {
            "colorbar": {
             "outlinewidth": 0,
             "ticks": ""
            },
            "colorscale": [
             [
              0,
              "#0d0887"
             ],
             [
              0.1111111111111111,
              "#46039f"
             ],
             [
              0.2222222222222222,
              "#7201a8"
             ],
             [
              0.3333333333333333,
              "#9c179e"
             ],
             [
              0.4444444444444444,
              "#bd3786"
             ],
             [
              0.5555555555555556,
              "#d8576b"
             ],
             [
              0.6666666666666666,
              "#ed7953"
             ],
             [
              0.7777777777777778,
              "#fb9f3a"
             ],
             [
              0.8888888888888888,
              "#fdca26"
             ],
             [
              1,
              "#f0f921"
             ]
            ],
            "type": "contour"
           }
          ],
          "contourcarpet": [
           {
            "colorbar": {
             "outlinewidth": 0,
             "ticks": ""
            },
            "type": "contourcarpet"
           }
          ],
          "heatmap": [
           {
            "colorbar": {
             "outlinewidth": 0,
             "ticks": ""
            },
            "colorscale": [
             [
              0,
              "#0d0887"
             ],
             [
              0.1111111111111111,
              "#46039f"
             ],
             [
              0.2222222222222222,
              "#7201a8"
             ],
             [
              0.3333333333333333,
              "#9c179e"
             ],
             [
              0.4444444444444444,
              "#bd3786"
             ],
             [
              0.5555555555555556,
              "#d8576b"
             ],
             [
              0.6666666666666666,
              "#ed7953"
             ],
             [
              0.7777777777777778,
              "#fb9f3a"
             ],
             [
              0.8888888888888888,
              "#fdca26"
             ],
             [
              1,
              "#f0f921"
             ]
            ],
            "type": "heatmap"
           }
          ],
          "heatmapgl": [
           {
            "colorbar": {
             "outlinewidth": 0,
             "ticks": ""
            },
            "colorscale": [
             [
              0,
              "#0d0887"
             ],
             [
              0.1111111111111111,
              "#46039f"
             ],
             [
              0.2222222222222222,
              "#7201a8"
             ],
             [
              0.3333333333333333,
              "#9c179e"
             ],
             [
              0.4444444444444444,
              "#bd3786"
             ],
             [
              0.5555555555555556,
              "#d8576b"
             ],
             [
              0.6666666666666666,
              "#ed7953"
             ],
             [
              0.7777777777777778,
              "#fb9f3a"
             ],
             [
              0.8888888888888888,
              "#fdca26"
             ],
             [
              1,
              "#f0f921"
             ]
            ],
            "type": "heatmapgl"
           }
          ],
          "histogram": [
           {
            "marker": {
             "pattern": {
              "fillmode": "overlay",
              "size": 10,
              "solidity": 0.2
             }
            },
            "type": "histogram"
           }
          ],
          "histogram2d": [
           {
            "colorbar": {
             "outlinewidth": 0,
             "ticks": ""
            },
            "colorscale": [
             [
              0,
              "#0d0887"
             ],
             [
              0.1111111111111111,
              "#46039f"
             ],
             [
              0.2222222222222222,
              "#7201a8"
             ],
             [
              0.3333333333333333,
              "#9c179e"
             ],
             [
              0.4444444444444444,
              "#bd3786"
             ],
             [
              0.5555555555555556,
              "#d8576b"
             ],
             [
              0.6666666666666666,
              "#ed7953"
             ],
             [
              0.7777777777777778,
              "#fb9f3a"
             ],
             [
              0.8888888888888888,
              "#fdca26"
             ],
             [
              1,
              "#f0f921"
             ]
            ],
            "type": "histogram2d"
           }
          ],
          "histogram2dcontour": [
           {
            "colorbar": {
             "outlinewidth": 0,
             "ticks": ""
            },
            "colorscale": [
             [
              0,
              "#0d0887"
             ],
             [
              0.1111111111111111,
              "#46039f"
             ],
             [
              0.2222222222222222,
              "#7201a8"
             ],
             [
              0.3333333333333333,
              "#9c179e"
             ],
             [
              0.4444444444444444,
              "#bd3786"
             ],
             [
              0.5555555555555556,
              "#d8576b"
             ],
             [
              0.6666666666666666,
              "#ed7953"
             ],
             [
              0.7777777777777778,
              "#fb9f3a"
             ],
             [
              0.8888888888888888,
              "#fdca26"
             ],
             [
              1,
              "#f0f921"
             ]
            ],
            "type": "histogram2dcontour"
           }
          ],
          "mesh3d": [
           {
            "colorbar": {
             "outlinewidth": 0,
             "ticks": ""
            },
            "type": "mesh3d"
           }
          ],
          "parcoords": [
           {
            "line": {
             "colorbar": {
              "outlinewidth": 0,
              "ticks": ""
             }
            },
            "type": "parcoords"
           }
          ],
          "pie": [
           {
            "automargin": true,
            "type": "pie"
           }
          ],
          "scatter": [
           {
            "fillpattern": {
             "fillmode": "overlay",
             "size": 10,
             "solidity": 0.2
            },
            "type": "scatter"
           }
          ],
          "scatter3d": [
           {
            "line": {
             "colorbar": {
              "outlinewidth": 0,
              "ticks": ""
             }
            },
            "marker": {
             "colorbar": {
              "outlinewidth": 0,
              "ticks": ""
             }
            },
            "type": "scatter3d"
           }
          ],
          "scattercarpet": [
           {
            "marker": {
             "colorbar": {
              "outlinewidth": 0,
              "ticks": ""
             }
            },
            "type": "scattercarpet"
           }
          ],
          "scattergeo": [
           {
            "marker": {
             "colorbar": {
              "outlinewidth": 0,
              "ticks": ""
             }
            },
            "type": "scattergeo"
           }
          ],
          "scattergl": [
           {
            "marker": {
             "colorbar": {
              "outlinewidth": 0,
              "ticks": ""
             }
            },
            "type": "scattergl"
           }
          ],
          "scattermapbox": [
           {
            "marker": {
             "colorbar": {
              "outlinewidth": 0,
              "ticks": ""
             }
            },
            "type": "scattermapbox"
           }
          ],
          "scatterpolar": [
           {
            "marker": {
             "colorbar": {
              "outlinewidth": 0,
              "ticks": ""
             }
            },
            "type": "scatterpolar"
           }
          ],
          "scatterpolargl": [
           {
            "marker": {
             "colorbar": {
              "outlinewidth": 0,
              "ticks": ""
             }
            },
            "type": "scatterpolargl"
           }
          ],
          "scatterternary": [
           {
            "marker": {
             "colorbar": {
              "outlinewidth": 0,
              "ticks": ""
             }
            },
            "type": "scatterternary"
           }
          ],
          "surface": [
           {
            "colorbar": {
             "outlinewidth": 0,
             "ticks": ""
            },
            "colorscale": [
             [
              0,
              "#0d0887"
             ],
             [
              0.1111111111111111,
              "#46039f"
             ],
             [
              0.2222222222222222,
              "#7201a8"
             ],
             [
              0.3333333333333333,
              "#9c179e"
             ],
             [
              0.4444444444444444,
              "#bd3786"
             ],
             [
              0.5555555555555556,
              "#d8576b"
             ],
             [
              0.6666666666666666,
              "#ed7953"
             ],
             [
              0.7777777777777778,
              "#fb9f3a"
             ],
             [
              0.8888888888888888,
              "#fdca26"
             ],
             [
              1,
              "#f0f921"
             ]
            ],
            "type": "surface"
           }
          ],
          "table": [
           {
            "cells": {
             "fill": {
              "color": "#EBF0F8"
             },
             "line": {
              "color": "white"
             }
            },
            "header": {
             "fill": {
              "color": "#C8D4E3"
             },
             "line": {
              "color": "white"
             }
            },
            "type": "table"
           }
          ]
         },
         "layout": {
          "annotationdefaults": {
           "arrowcolor": "#2a3f5f",
           "arrowhead": 0,
           "arrowwidth": 1
          },
          "autotypenumbers": "strict",
          "coloraxis": {
           "colorbar": {
            "outlinewidth": 0,
            "ticks": ""
           }
          },
          "colorscale": {
           "diverging": [
            [
             0,
             "#8e0152"
            ],
            [
             0.1,
             "#c51b7d"
            ],
            [
             0.2,
             "#de77ae"
            ],
            [
             0.3,
             "#f1b6da"
            ],
            [
             0.4,
             "#fde0ef"
            ],
            [
             0.5,
             "#f7f7f7"
            ],
            [
             0.6,
             "#e6f5d0"
            ],
            [
             0.7,
             "#b8e186"
            ],
            [
             0.8,
             "#7fbc41"
            ],
            [
             0.9,
             "#4d9221"
            ],
            [
             1,
             "#276419"
            ]
           ],
           "sequential": [
            [
             0,
             "#0d0887"
            ],
            [
             0.1111111111111111,
             "#46039f"
            ],
            [
             0.2222222222222222,
             "#7201a8"
            ],
            [
             0.3333333333333333,
             "#9c179e"
            ],
            [
             0.4444444444444444,
             "#bd3786"
            ],
            [
             0.5555555555555556,
             "#d8576b"
            ],
            [
             0.6666666666666666,
             "#ed7953"
            ],
            [
             0.7777777777777778,
             "#fb9f3a"
            ],
            [
             0.8888888888888888,
             "#fdca26"
            ],
            [
             1,
             "#f0f921"
            ]
           ],
           "sequentialminus": [
            [
             0,
             "#0d0887"
            ],
            [
             0.1111111111111111,
             "#46039f"
            ],
            [
             0.2222222222222222,
             "#7201a8"
            ],
            [
             0.3333333333333333,
             "#9c179e"
            ],
            [
             0.4444444444444444,
             "#bd3786"
            ],
            [
             0.5555555555555556,
             "#d8576b"
            ],
            [
             0.6666666666666666,
             "#ed7953"
            ],
            [
             0.7777777777777778,
             "#fb9f3a"
            ],
            [
             0.8888888888888888,
             "#fdca26"
            ],
            [
             1,
             "#f0f921"
            ]
           ]
          },
          "colorway": [
           "#636efa",
           "#EF553B",
           "#00cc96",
           "#ab63fa",
           "#FFA15A",
           "#19d3f3",
           "#FF6692",
           "#B6E880",
           "#FF97FF",
           "#FECB52"
          ],
          "font": {
           "color": "#2a3f5f"
          },
          "geo": {
           "bgcolor": "white",
           "lakecolor": "white",
           "landcolor": "#E5ECF6",
           "showlakes": true,
           "showland": true,
           "subunitcolor": "white"
          },
          "hoverlabel": {
           "align": "left"
          },
          "hovermode": "closest",
          "mapbox": {
           "style": "light"
          },
          "paper_bgcolor": "white",
          "plot_bgcolor": "#E5ECF6",
          "polar": {
           "angularaxis": {
            "gridcolor": "white",
            "linecolor": "white",
            "ticks": ""
           },
           "bgcolor": "#E5ECF6",
           "radialaxis": {
            "gridcolor": "white",
            "linecolor": "white",
            "ticks": ""
           }
          },
          "scene": {
           "xaxis": {
            "backgroundcolor": "#E5ECF6",
            "gridcolor": "white",
            "gridwidth": 2,
            "linecolor": "white",
            "showbackground": true,
            "ticks": "",
            "zerolinecolor": "white"
           },
           "yaxis": {
            "backgroundcolor": "#E5ECF6",
            "gridcolor": "white",
            "gridwidth": 2,
            "linecolor": "white",
            "showbackground": true,
            "ticks": "",
            "zerolinecolor": "white"
           },
           "zaxis": {
            "backgroundcolor": "#E5ECF6",
            "gridcolor": "white",
            "gridwidth": 2,
            "linecolor": "white",
            "showbackground": true,
            "ticks": "",
            "zerolinecolor": "white"
           }
          },
          "shapedefaults": {
           "line": {
            "color": "#2a3f5f"
           }
          },
          "ternary": {
           "aaxis": {
            "gridcolor": "white",
            "linecolor": "white",
            "ticks": ""
           },
           "baxis": {
            "gridcolor": "white",
            "linecolor": "white",
            "ticks": ""
           },
           "bgcolor": "#E5ECF6",
           "caxis": {
            "gridcolor": "white",
            "linecolor": "white",
            "ticks": ""
           }
          },
          "title": {
           "x": 0.05
          },
          "xaxis": {
           "automargin": true,
           "gridcolor": "white",
           "linecolor": "white",
           "ticks": "",
           "title": {
            "standoff": 15
           },
           "zerolinecolor": "white",
           "zerolinewidth": 2
          },
          "yaxis": {
           "automargin": true,
           "gridcolor": "white",
           "linecolor": "white",
           "ticks": "",
           "title": {
            "standoff": 15
           },
           "zerolinecolor": "white",
           "zerolinewidth": 2
          }
         }
        },
        "title": {
         "text": "Role Assignment Heatmap for Scenario 1"
        },
        "xaxis": {
         "nticks": 5,
         "title": {
          "text": "Roles"
         }
        },
        "yaxis": {
         "nticks": 5,
         "title": {
          "text": "Candidates"
         }
        }
       }
      },
      "text/html": [
       "<div>                            <div id=\"168d747a-1430-42aa-ade3-4c2847ef1600\" class=\"plotly-graph-div\" style=\"height:525px; width:100%;\"></div>            <script type=\"text/javascript\">                require([\"plotly\"], function(Plotly) {                    window.PLOTLYENV=window.PLOTLYENV || {};                                    if (document.getElementById(\"168d747a-1430-42aa-ade3-4c2847ef1600\")) {                    Plotly.newPlot(                        \"168d747a-1430-42aa-ade3-4c2847ef1600\",                        [{\"colorscale\":[[0.0,\"#440154\"],[0.1111111111111111,\"#482878\"],[0.2222222222222222,\"#3e4989\"],[0.3333333333333333,\"#31688e\"],[0.4444444444444444,\"#26828e\"],[0.5555555555555556,\"#1f9e89\"],[0.6666666666666666,\"#35b779\"],[0.7777777777777778,\"#6ece58\"],[0.8888888888888888,\"#b5de2b\"],[1.0,\"#fde725\"]],\"hoverongaps\":false,\"x\":[\"AI Engineer\",\"Database Admin\",\"Python Programmer\",\"Systems Engineer\",\"Web Designer\"],\"y\":[\"Anita\",\"Ciara\",\"Jane\",\"Jim\",\"Juan\"],\"z\":[[1.0,0.0,0.0,0.0,1.0],[0.0,0.0,1.0,0.0,0.0],[0.0,1.0,1.0,0.0,0.0],[1.0,0.0,0.0,1.0,0.0],[1.0,0.0,0.0,0.0,1.0]],\"type\":\"heatmap\"}],                        {\"template\":{\"data\":{\"histogram2dcontour\":[{\"type\":\"histogram2dcontour\",\"colorbar\":{\"outlinewidth\":0,\"ticks\":\"\"},\"colorscale\":[[0.0,\"#0d0887\"],[0.1111111111111111,\"#46039f\"],[0.2222222222222222,\"#7201a8\"],[0.3333333333333333,\"#9c179e\"],[0.4444444444444444,\"#bd3786\"],[0.5555555555555556,\"#d8576b\"],[0.6666666666666666,\"#ed7953\"],[0.7777777777777778,\"#fb9f3a\"],[0.8888888888888888,\"#fdca26\"],[1.0,\"#f0f921\"]]}],\"choropleth\":[{\"type\":\"choropleth\",\"colorbar\":{\"outlinewidth\":0,\"ticks\":\"\"}}],\"histogram2d\":[{\"type\":\"histogram2d\",\"colorbar\":{\"outlinewidth\":0,\"ticks\":\"\"},\"colorscale\":[[0.0,\"#0d0887\"],[0.1111111111111111,\"#46039f\"],[0.2222222222222222,\"#7201a8\"],[0.3333333333333333,\"#9c179e\"],[0.4444444444444444,\"#bd3786\"],[0.5555555555555556,\"#d8576b\"],[0.6666666666666666,\"#ed7953\"],[0.7777777777777778,\"#fb9f3a\"],[0.8888888888888888,\"#fdca26\"],[1.0,\"#f0f921\"]]}],\"heatmap\":[{\"type\":\"heatmap\",\"colorbar\":{\"outlinewidth\":0,\"ticks\":\"\"},\"colorscale\":[[0.0,\"#0d0887\"],[0.1111111111111111,\"#46039f\"],[0.2222222222222222,\"#7201a8\"],[0.3333333333333333,\"#9c179e\"],[0.4444444444444444,\"#bd3786\"],[0.5555555555555556,\"#d8576b\"],[0.6666666666666666,\"#ed7953\"],[0.7777777777777778,\"#fb9f3a\"],[0.8888888888888888,\"#fdca26\"],[1.0,\"#f0f921\"]]}],\"heatmapgl\":[{\"type\":\"heatmapgl\",\"colorbar\":{\"outlinewidth\":0,\"ticks\":\"\"},\"colorscale\":[[0.0,\"#0d0887\"],[0.1111111111111111,\"#46039f\"],[0.2222222222222222,\"#7201a8\"],[0.3333333333333333,\"#9c179e\"],[0.4444444444444444,\"#bd3786\"],[0.5555555555555556,\"#d8576b\"],[0.6666666666666666,\"#ed7953\"],[0.7777777777777778,\"#fb9f3a\"],[0.8888888888888888,\"#fdca26\"],[1.0,\"#f0f921\"]]}],\"contourcarpet\":[{\"type\":\"contourcarpet\",\"colorbar\":{\"outlinewidth\":0,\"ticks\":\"\"}}],\"contour\":[{\"type\":\"contour\",\"colorbar\":{\"outlinewidth\":0,\"ticks\":\"\"},\"colorscale\":[[0.0,\"#0d0887\"],[0.1111111111111111,\"#46039f\"],[0.2222222222222222,\"#7201a8\"],[0.3333333333333333,\"#9c179e\"],[0.4444444444444444,\"#bd3786\"],[0.5555555555555556,\"#d8576b\"],[0.6666666666666666,\"#ed7953\"],[0.7777777777777778,\"#fb9f3a\"],[0.8888888888888888,\"#fdca26\"],[1.0,\"#f0f921\"]]}],\"surface\":[{\"type\":\"surface\",\"colorbar\":{\"outlinewidth\":0,\"ticks\":\"\"},\"colorscale\":[[0.0,\"#0d0887\"],[0.1111111111111111,\"#46039f\"],[0.2222222222222222,\"#7201a8\"],[0.3333333333333333,\"#9c179e\"],[0.4444444444444444,\"#bd3786\"],[0.5555555555555556,\"#d8576b\"],[0.6666666666666666,\"#ed7953\"],[0.7777777777777778,\"#fb9f3a\"],[0.8888888888888888,\"#fdca26\"],[1.0,\"#f0f921\"]]}],\"mesh3d\":[{\"type\":\"mesh3d\",\"colorbar\":{\"outlinewidth\":0,\"ticks\":\"\"}}],\"scatter\":[{\"fillpattern\":{\"fillmode\":\"overlay\",\"size\":10,\"solidity\":0.2},\"type\":\"scatter\"}],\"parcoords\":[{\"type\":\"parcoords\",\"line\":{\"colorbar\":{\"outlinewidth\":0,\"ticks\":\"\"}}}],\"scatterpolargl\":[{\"type\":\"scatterpolargl\",\"marker\":{\"colorbar\":{\"outlinewidth\":0,\"ticks\":\"\"}}}],\"bar\":[{\"error_x\":{\"color\":\"#2a3f5f\"},\"error_y\":{\"color\":\"#2a3f5f\"},\"marker\":{\"line\":{\"color\":\"#E5ECF6\",\"width\":0.5},\"pattern\":{\"fillmode\":\"overlay\",\"size\":10,\"solidity\":0.2}},\"type\":\"bar\"}],\"scattergeo\":[{\"type\":\"scattergeo\",\"marker\":{\"colorbar\":{\"outlinewidth\":0,\"ticks\":\"\"}}}],\"scatterpolar\":[{\"type\":\"scatterpolar\",\"marker\":{\"colorbar\":{\"outlinewidth\":0,\"ticks\":\"\"}}}],\"histogram\":[{\"marker\":{\"pattern\":{\"fillmode\":\"overlay\",\"size\":10,\"solidity\":0.2}},\"type\":\"histogram\"}],\"scattergl\":[{\"type\":\"scattergl\",\"marker\":{\"colorbar\":{\"outlinewidth\":0,\"ticks\":\"\"}}}],\"scatter3d\":[{\"type\":\"scatter3d\",\"line\":{\"colorbar\":{\"outlinewidth\":0,\"ticks\":\"\"}},\"marker\":{\"colorbar\":{\"outlinewidth\":0,\"ticks\":\"\"}}}],\"scattermapbox\":[{\"type\":\"scattermapbox\",\"marker\":{\"colorbar\":{\"outlinewidth\":0,\"ticks\":\"\"}}}],\"scatterternary\":[{\"type\":\"scatterternary\",\"marker\":{\"colorbar\":{\"outlinewidth\":0,\"ticks\":\"\"}}}],\"scattercarpet\":[{\"type\":\"scattercarpet\",\"marker\":{\"colorbar\":{\"outlinewidth\":0,\"ticks\":\"\"}}}],\"carpet\":[{\"aaxis\":{\"endlinecolor\":\"#2a3f5f\",\"gridcolor\":\"white\",\"linecolor\":\"white\",\"minorgridcolor\":\"white\",\"startlinecolor\":\"#2a3f5f\"},\"baxis\":{\"endlinecolor\":\"#2a3f5f\",\"gridcolor\":\"white\",\"linecolor\":\"white\",\"minorgridcolor\":\"white\",\"startlinecolor\":\"#2a3f5f\"},\"type\":\"carpet\"}],\"table\":[{\"cells\":{\"fill\":{\"color\":\"#EBF0F8\"},\"line\":{\"color\":\"white\"}},\"header\":{\"fill\":{\"color\":\"#C8D4E3\"},\"line\":{\"color\":\"white\"}},\"type\":\"table\"}],\"barpolar\":[{\"marker\":{\"line\":{\"color\":\"#E5ECF6\",\"width\":0.5},\"pattern\":{\"fillmode\":\"overlay\",\"size\":10,\"solidity\":0.2}},\"type\":\"barpolar\"}],\"pie\":[{\"automargin\":true,\"type\":\"pie\"}]},\"layout\":{\"autotypenumbers\":\"strict\",\"colorway\":[\"#636efa\",\"#EF553B\",\"#00cc96\",\"#ab63fa\",\"#FFA15A\",\"#19d3f3\",\"#FF6692\",\"#B6E880\",\"#FF97FF\",\"#FECB52\"],\"font\":{\"color\":\"#2a3f5f\"},\"hovermode\":\"closest\",\"hoverlabel\":{\"align\":\"left\"},\"paper_bgcolor\":\"white\",\"plot_bgcolor\":\"#E5ECF6\",\"polar\":{\"bgcolor\":\"#E5ECF6\",\"angularaxis\":{\"gridcolor\":\"white\",\"linecolor\":\"white\",\"ticks\":\"\"},\"radialaxis\":{\"gridcolor\":\"white\",\"linecolor\":\"white\",\"ticks\":\"\"}},\"ternary\":{\"bgcolor\":\"#E5ECF6\",\"aaxis\":{\"gridcolor\":\"white\",\"linecolor\":\"white\",\"ticks\":\"\"},\"baxis\":{\"gridcolor\":\"white\",\"linecolor\":\"white\",\"ticks\":\"\"},\"caxis\":{\"gridcolor\":\"white\",\"linecolor\":\"white\",\"ticks\":\"\"}},\"coloraxis\":{\"colorbar\":{\"outlinewidth\":0,\"ticks\":\"\"}},\"colorscale\":{\"sequential\":[[0.0,\"#0d0887\"],[0.1111111111111111,\"#46039f\"],[0.2222222222222222,\"#7201a8\"],[0.3333333333333333,\"#9c179e\"],[0.4444444444444444,\"#bd3786\"],[0.5555555555555556,\"#d8576b\"],[0.6666666666666666,\"#ed7953\"],[0.7777777777777778,\"#fb9f3a\"],[0.8888888888888888,\"#fdca26\"],[1.0,\"#f0f921\"]],\"sequentialminus\":[[0.0,\"#0d0887\"],[0.1111111111111111,\"#46039f\"],[0.2222222222222222,\"#7201a8\"],[0.3333333333333333,\"#9c179e\"],[0.4444444444444444,\"#bd3786\"],[0.5555555555555556,\"#d8576b\"],[0.6666666666666666,\"#ed7953\"],[0.7777777777777778,\"#fb9f3a\"],[0.8888888888888888,\"#fdca26\"],[1.0,\"#f0f921\"]],\"diverging\":[[0,\"#8e0152\"],[0.1,\"#c51b7d\"],[0.2,\"#de77ae\"],[0.3,\"#f1b6da\"],[0.4,\"#fde0ef\"],[0.5,\"#f7f7f7\"],[0.6,\"#e6f5d0\"],[0.7,\"#b8e186\"],[0.8,\"#7fbc41\"],[0.9,\"#4d9221\"],[1,\"#276419\"]]},\"xaxis\":{\"gridcolor\":\"white\",\"linecolor\":\"white\",\"ticks\":\"\",\"title\":{\"standoff\":15},\"zerolinecolor\":\"white\",\"automargin\":true,\"zerolinewidth\":2},\"yaxis\":{\"gridcolor\":\"white\",\"linecolor\":\"white\",\"ticks\":\"\",\"title\":{\"standoff\":15},\"zerolinecolor\":\"white\",\"automargin\":true,\"zerolinewidth\":2},\"scene\":{\"xaxis\":{\"backgroundcolor\":\"#E5ECF6\",\"gridcolor\":\"white\",\"linecolor\":\"white\",\"showbackground\":true,\"ticks\":\"\",\"zerolinecolor\":\"white\",\"gridwidth\":2},\"yaxis\":{\"backgroundcolor\":\"#E5ECF6\",\"gridcolor\":\"white\",\"linecolor\":\"white\",\"showbackground\":true,\"ticks\":\"\",\"zerolinecolor\":\"white\",\"gridwidth\":2},\"zaxis\":{\"backgroundcolor\":\"#E5ECF6\",\"gridcolor\":\"white\",\"linecolor\":\"white\",\"showbackground\":true,\"ticks\":\"\",\"zerolinecolor\":\"white\",\"gridwidth\":2}},\"shapedefaults\":{\"line\":{\"color\":\"#2a3f5f\"}},\"annotationdefaults\":{\"arrowcolor\":\"#2a3f5f\",\"arrowhead\":0,\"arrowwidth\":1},\"geo\":{\"bgcolor\":\"white\",\"landcolor\":\"#E5ECF6\",\"subunitcolor\":\"white\",\"showland\":true,\"showlakes\":true,\"lakecolor\":\"white\"},\"title\":{\"x\":0.05},\"mapbox\":{\"style\":\"light\"}}},\"xaxis\":{\"nticks\":5,\"title\":{\"text\":\"Roles\"}},\"yaxis\":{\"nticks\":5,\"title\":{\"text\":\"Candidates\"}},\"title\":{\"text\":\"Role Assignment Heatmap for Scenario 1\"}},                        {\"responsive\": true}                    ).then(function(){\n",
       "                            \n",
       "var gd = document.getElementById('168d747a-1430-42aa-ade3-4c2847ef1600');\n",
       "var x = new MutationObserver(function (mutations, observer) {{\n",
       "        var display = window.getComputedStyle(gd).display;\n",
       "        if (!display || display === 'none') {{\n",
       "            console.log([gd, 'removed!']);\n",
       "            Plotly.purge(gd);\n",
       "            observer.disconnect();\n",
       "        }}\n",
       "}});\n",
       "\n",
       "// Listen for the removal of the full notebook cells\n",
       "var notebookContainer = gd.closest('#notebook-container');\n",
       "if (notebookContainer) {{\n",
       "    x.observe(notebookContainer, {childList: true});\n",
       "}}\n",
       "\n",
       "// Listen for the clearing of the current output cell\n",
       "var outputEl = gd.closest('.output');\n",
       "if (outputEl) {{\n",
       "    x.observe(outputEl, {childList: true});\n",
       "}}\n",
       "\n",
       "                        })                };                });            </script>        </div>"
      ]
     },
     "metadata": {},
     "output_type": "display_data"
    }
   ],
   "source": [
    "import plotly.graph_objs as go\n",
    "import numpy as np\n",
    "\n",
    "# Data for Scenario 1 combinations with candidates' roles\n",
    "combinations_scenario_1 = {\n",
    "    \"Combination 1\": {\"Ciara\": [\"Python Programmer\"], \"Jane\": [\"Python Programmer\", \"Database Admin\"], \"Anita\": [\"AI Engineer\", \"Web Designer\"], \"Jim\": [\"AI Engineer\", \"Systems Engineer\"]},\n",
    "    \"Combination 2\": {\"Ciara\": [\"Python Programmer\"], \"Jane\": [\"Python Programmer\", \"Database Admin\"], \"Jim\": [\"AI Engineer\", \"Systems Engineer\"], \"Anita\": [\"AI Engineer\", \"Web Designer\"]},\n",
    "    \"Combination 3\": {\"Ciara\": [\"Python Programmer\"], \"Jane\": [\"Python Programmer\", \"Database Admin\"], \"Jim\": [\"AI Engineer\", \"Systems Engineer\"], \"Juan\": [\"AI Engineer\", \"Web Designer\"]},\n",
    "    \"Combination 4\": {\"Ciara\": [\"Python Programmer\"], \"Jane\": [\"Python Programmer\", \"Database Admin\"], \"Juan\": [\"AI Engineer\", \"Web Designer\"], \"Jim\": [\"AI Engineer\", \"Systems Engineer\"]}\n",
    "}\n",
    "\n",
    "# Preparing data for the heatmap\n",
    "roles = sorted({\"Python Programmer\", \"AI Engineer\", \"Web Designer\", \"Database Admin\", \"Systems Engineer\"})\n",
    "candidates = sorted({cand for combo in combinations_scenario_1.values() for cand in combo})\n",
    "\n",
    "# Create a matrix to represent the data\n",
    "heatmap_data = np.zeros((len(candidates), len(roles)))\n",
    "\n",
    "for i, candidate in enumerate(candidates):\n",
    "    for j, role in enumerate(roles):\n",
    "        for combo in combinations_scenario_1.values():\n",
    "            if candidate in combo and role in combo[candidate]:\n",
    "                heatmap_data[i, j] = 1\n",
    "\n",
    "# Create the heatmap\n",
    "fig = go.Figure(data=go.Heatmap(\n",
    "    z=heatmap_data,\n",
    "    x=roles,\n",
    "    y=candidates,\n",
    "    hoverongaps=False,\n",
    "    colorscale='Viridis'\n",
    "))\n",
    "\n",
    "# Update layout\n",
    "fig.update_layout(\n",
    "    title='Role Assignment Heatmap for Scenario 1',\n",
    "    xaxis_nticks=len(roles),\n",
    "    yaxis_nticks=len(candidates),\n",
    "    xaxis_title=\"Roles\",\n",
    "    yaxis_title=\"Candidates\"\n",
    ")\n",
    "\n",
    "# Show the plot\n",
    "fig.show()\n"
   ]
  },
  {
   "cell_type": "code",
   "execution_count": null,
   "id": "73ff8106",
   "metadata": {},
   "outputs": [],
   "source": []
  },
  {
   "cell_type": "markdown",
   "id": "924c95e1",
   "metadata": {},
   "source": [
    "### CSP for scenario 2"
   ]
  },
  {
   "cell_type": "code",
   "execution_count": 84,
   "id": "73907ecd",
   "metadata": {},
   "outputs": [
    {
     "data": {
      "application/vnd.jupyter.widget-view+json": {
       "model_id": "fd0002855a024c458be57d31bf9e2646",
       "version_major": 2,
       "version_minor": 0
      },
      "text/plain": [
       "interactive(children=(Dropdown(description='Select Combination:', options=('Combination 1', 'Combination 2', '…"
      ]
     },
     "execution_count": 84,
     "metadata": {},
     "output_type": "execute_result"
    }
   ],
   "source": [
    "import plotly.graph_objs as go\n",
    "from ipywidgets import interactive, Dropdown\n",
    "\n",
    "# Define the combinations data with an example of 10 combinations\n",
    "combinations_scenario_2 = {\n",
    "    # Correct combinations data\n",
    "    \"Combination 1\": {\n",
    "        \"Bruce\": [\"Python_Programmer1\"],\n",
    "        \"Peter\": [\"Python_Programmer2\"],\n",
    "        \"Anita\": [\"AI_Engineer1\", \"Web_Designer\"],\n",
    "        \"Jim\": [\"AI_Engineer2\"],\n",
    "        \"Juan\": [\"AI_Engineer3\"],\n",
    "        \"Jane\": [\"Database_Admin\"],\n",
    "        \"Mary\": [\"Systems_Engineer\"]\n",
    "    },\n",
    "    \"Combination 2\": {\n",
    "        \"Bruce\": [\"Python_Programmer1\", \"Systems_Engineer\"],\n",
    "        \"Peter\": [\"Python_Programmer2\"],\n",
    "        \"Anita\": [\"AI_Engineer1\"],\n",
    "        \"Jim\": [\"AI_Engineer2\"],\n",
    "        \"Juan\": [\"AI_Engineer3\"],\n",
    "        \"Jane\": [\"Database_Admin\"],\n",
    "        \"Mary\": [\"Web_Designer\"]\n",
    "    },\n",
    "    \"Combination 3\": {\n",
    "        \"Bruce\": [\"Python_Programmer1\"],\n",
    "        \"Peter\": [\"Python_Programmer2\"],\n",
    "        \"Anita\": [\"AI_Engineer1\"],\n",
    "        \"Jim\": [\"AI_Engineer2\", \"Systems_Engineer\"],\n",
    "        \"Juan\": [\"AI_Engineer3\"],\n",
    "        \"Jane\": [\"Database_Admin\"],\n",
    "        \"Mary\": [\"Web_Designer\"]\n",
    "    },\n",
    "    \"Combination 4\": {\n",
    "        \"Bruce\": [\"Python_Programmer1\"],\n",
    "        \"Peter\": [\"Python_Programmer2\"],\n",
    "        \"Anita\": [\"AI_Engineer1\"],\n",
    "        \"Jim\": [\"AI_Engineer2\"],\n",
    "        \"Juan\": [\"AI_Engineer3\"],\n",
    "        \"Jane\": [\"Database_Admin\"],\n",
    "        \"Mary\": [\"Web_Designer\", \"Systems_Engineer\"]\n",
    "    },\n",
    "    \"Combination 5\": {\n",
    "        \"Bruce\": [\"Python_Programmer1\"],\n",
    "        \"Peter\": [\"Python_Programmer2\"],\n",
    "        \"Anita\": [\"AI_Engineer1\", \"Web_Designer\"],\n",
    "        \"Jim\": [\"AI_Engineer2\"],\n",
    "        \"Juan\": [\"AI_Engineer3\"],\n",
    "        \"Jane\": [\"Database_Admin\"],\n",
    "        \"Mary\": [\"Systems_Engineer\"]\n",
    "    },\n",
    "    \"Combination 6\": {\n",
    "        \"Bruce\": [\"Python_Programmer1\"],\n",
    "        \"Peter\": [\"Python_Programmer2\"],\n",
    "        \"Anita\": [\"AI_Engineer1\"],\n",
    "        \"Jim\": [\"AI_Engineer2\", \"Web_Designer\"],\n",
    "        \"Juan\": [\"AI_Engineer3\"],\n",
    "        \"Jane\": [\"Database_Admin\"],\n",
    "        \"Mary\": [\"Systems_Engineer\"]\n",
    "    },\n",
    "    \"Combination 7\": {\n",
    "        \"Bruce\": [\"Python_Programmer1\"],\n",
    "        \"Peter\": [\"Python_Programmer2\"],\n",
    "        \"Anita\": [\"AI_Engineer1\"],\n",
    "        \"Jim\": [\"AI_Engineer2\"],\n",
    "        \"Juan\": [\"AI_Engineer3\", \"Web_Designer\"],\n",
    "        \"Jane\": [\"Database_Admin\"],\n",
    "        \"Mary\": [\"Systems_Engineer\"]\n",
    "    },\n",
    "    \"Combination 8\": {\n",
    "        \"Bruce\": [\"Python_Programmer1\"],\n",
    "        \"Peter\": [\"Python_Programmer2\"],\n",
    "        \"Anita\": [\"AI_Engineer1\"],\n",
    "        \"Jim\": [\"AI_Engineer2\"],\n",
    "        \"Juan\": [\"AI_Engineer3\"],\n",
    "        \"Jane\": [\"Database_Admin\", \"Web_Designer\"],\n",
    "        \"Mary\": [\"Systems_Engineer\"]\n",
    "    },\n",
    "    \"Combination 9\": {\n",
    "        \"Bruce\": [\"Python_Programmer1\"],\n",
    "        \"Peter\": [\"Python_Programmer2\"],\n",
    "        \"Anita\": [\"AI_Engineer1\", \"Web_Designer\"],\n",
    "        \"Jim\": [\"AI_Engineer2\"],\n",
    "        \"Juan\": [\"AI_Engineer3\"],\n",
    "        \"Jane\": [\"Database_Admin\"],\n",
    "        \"Mary\": [\"Systems_Engineer\"]\n",
    "    },\n",
    "    \"Combination 10\": {\n",
    "        \"Bruce\": [\"Python_Programmer1\"],\n",
    "        \"Peter\": [\"Python_Programmer2\"],\n",
    "        \"Anita\": [\"AI_Engineer1\"],\n",
    "        \"Jim\": [\"AI_Engineer2\"],\n",
    "        \"Juan\": [\"AI_Engineer3\"],\n",
    "        \"Jane\": [\"Database_Admin\", \"Web_Designer\"],\n",
    "        \"Mary\": [\"Systems_Engineer\"]\n",
    "    }\n",
    "}\n",
    "\n",
    "# Function to create the plot for a selected combination\n",
    "def create_plot_for_combination(combination):\n",
    "    roles_data = combinations_scenario_2[combination]\n",
    "    fig = go.Figure()\n",
    "    for role, candidates in roles_data.items():\n",
    "        fig.add_trace(go.Bar(name=role, x=[role], y=[len(candidates)], hovertext=', '.join(candidates)))\n",
    "    fig.update_layout(barmode='stack', title=f'Roles and Candidates for {combination}',\n",
    "                      xaxis_title='Roles', yaxis_title='Number of Candidates',\n",
    "                      hovermode='closest')\n",
    "    fig.show()\n",
    "\n",
    "# Create a dropdown for selecting a combination\n",
    "dropdown = Dropdown(options=list(combinations_scenario_2.keys()), description='Select Combination:')\n",
    "\n",
    "# Interactive widget\n",
    "interactive_plot = interactive(create_plot_for_combination, combination=dropdown)\n",
    "\n",
    "# Display the interactive plot widget\n",
    "interactive_plot\n"
   ]
  },
  {
   "cell_type": "markdown",
   "id": "b09fa9e0",
   "metadata": {},
   "source": []
  },
  {
   "cell_type": "code",
   "execution_count": 82,
   "id": "8cfd8d48",
   "metadata": {},
   "outputs": [
    {
     "data": {
      "application/vnd.plotly.v1+json": {
       "config": {
        "plotlyServerURL": "https://plot.ly"
       },
       "data": [
        {
         "hoverinfo": "text",
         "name": "Combination 1",
         "text": [
          "Python_Programmer1",
          "Python_Programmer2",
          "AI_Engineer1, Web_Designer",
          "AI_Engineer2",
          "AI_Engineer3",
          "Database_Admin",
          "Systems_Engineer"
         ],
         "type": "bar",
         "x": [
          "Bruce",
          "Peter",
          "Anita",
          "Jim",
          "Juan",
          "Jane",
          "Mary"
         ],
         "y": [
          1,
          1,
          2,
          1,
          1,
          1,
          1
         ]
        },
        {
         "hoverinfo": "text",
         "name": "Combination 2",
         "text": [
          "Python_Programmer1, Systems_Engineer",
          "Python_Programmer2",
          "AI_Engineer1",
          "AI_Engineer2",
          "AI_Engineer3",
          "Database_Admin",
          "Web_Designer"
         ],
         "type": "bar",
         "x": [
          "Bruce",
          "Peter",
          "Anita",
          "Jim",
          "Juan",
          "Jane",
          "Mary"
         ],
         "y": [
          2,
          1,
          1,
          1,
          1,
          1,
          1
         ]
        },
        {
         "hoverinfo": "text",
         "name": "Combination 3",
         "text": [
          "Python_Programmer1",
          "Python_Programmer2",
          "AI_Engineer1",
          "AI_Engineer2, Systems_Engineer",
          "AI_Engineer3",
          "Database_Admin",
          "Web_Designer"
         ],
         "type": "bar",
         "x": [
          "Bruce",
          "Peter",
          "Anita",
          "Jim",
          "Juan",
          "Jane",
          "Mary"
         ],
         "y": [
          1,
          1,
          1,
          2,
          1,
          1,
          1
         ]
        },
        {
         "hoverinfo": "text",
         "name": "Combination 4",
         "text": [
          "Python_Programmer1",
          "Python_Programmer2",
          "AI_Engineer1",
          "AI_Engineer2",
          "AI_Engineer3",
          "Database_Admin",
          "Web_Designer, Systems_Engineer"
         ],
         "type": "bar",
         "x": [
          "Bruce",
          "Peter",
          "Anita",
          "Jim",
          "Juan",
          "Jane",
          "Mary"
         ],
         "y": [
          1,
          1,
          1,
          1,
          1,
          1,
          2
         ]
        },
        {
         "hoverinfo": "text",
         "name": "Combination 5",
         "text": [
          "Python_Programmer1",
          "Python_Programmer2",
          "AI_Engineer1, Web_Designer",
          "AI_Engineer2",
          "AI_Engineer3",
          "Database_Admin",
          "Systems_Engineer"
         ],
         "type": "bar",
         "x": [
          "Bruce",
          "Peter",
          "Anita",
          "Jim",
          "Juan",
          "Jane",
          "Mary"
         ],
         "y": [
          1,
          1,
          2,
          1,
          1,
          1,
          1
         ]
        },
        {
         "hoverinfo": "text",
         "name": "Combination 6",
         "text": [
          "Python_Programmer1",
          "Python_Programmer2",
          "AI_Engineer1",
          "AI_Engineer2, Web_Designer",
          "AI_Engineer3",
          "Database_Admin",
          "Systems_Engineer"
         ],
         "type": "bar",
         "x": [
          "Bruce",
          "Peter",
          "Anita",
          "Jim",
          "Juan",
          "Jane",
          "Mary"
         ],
         "y": [
          1,
          1,
          1,
          2,
          1,
          1,
          1
         ]
        },
        {
         "hoverinfo": "text",
         "name": "Combination 7",
         "text": [
          "Python_Programmer1",
          "Python_Programmer2",
          "AI_Engineer1",
          "AI_Engineer2",
          "AI_Engineer3, Web_Designer",
          "Database_Admin",
          "Systems_Engineer"
         ],
         "type": "bar",
         "x": [
          "Bruce",
          "Peter",
          "Anita",
          "Jim",
          "Juan",
          "Jane",
          "Mary"
         ],
         "y": [
          1,
          1,
          1,
          1,
          2,
          1,
          1
         ]
        },
        {
         "hoverinfo": "text",
         "name": "Combination 8",
         "text": [
          "Python_Programmer1",
          "Python_Programmer2",
          "AI_Engineer1",
          "AI_Engineer2",
          "AI_Engineer3",
          "Database_Admin, Web_Designer",
          "Systems_Engineer"
         ],
         "type": "bar",
         "x": [
          "Bruce",
          "Peter",
          "Anita",
          "Jim",
          "Juan",
          "Jane",
          "Mary"
         ],
         "y": [
          1,
          1,
          1,
          1,
          1,
          2,
          1
         ]
        },
        {
         "hoverinfo": "text",
         "name": "Combination 9",
         "text": [
          "Python_Programmer1",
          "Python_Programmer2",
          "AI_Engineer1, Web_Designer",
          "AI_Engineer2",
          "AI_Engineer3",
          "Database_Admin",
          "Systems_Engineer"
         ],
         "type": "bar",
         "x": [
          "Bruce",
          "Peter",
          "Anita",
          "Jim",
          "Juan",
          "Jane",
          "Mary"
         ],
         "y": [
          1,
          1,
          2,
          1,
          1,
          1,
          1
         ]
        },
        {
         "hoverinfo": "text",
         "name": "Combination 10",
         "text": [
          "Python_Programmer1",
          "Python_Programmer2",
          "AI_Engineer1",
          "AI_Engineer2",
          "AI_Engineer3",
          "Database_Admin, Web_Designer",
          "Systems_Engineer"
         ],
         "type": "bar",
         "x": [
          "Bruce",
          "Peter",
          "Anita",
          "Jim",
          "Juan",
          "Jane",
          "Mary"
         ],
         "y": [
          1,
          1,
          1,
          1,
          1,
          2,
          1
         ]
        }
       ],
       "layout": {
        "barmode": "group",
        "template": {
         "data": {
          "bar": [
           {
            "error_x": {
             "color": "#2a3f5f"
            },
            "error_y": {
             "color": "#2a3f5f"
            },
            "marker": {
             "line": {
              "color": "#E5ECF6",
              "width": 0.5
             },
             "pattern": {
              "fillmode": "overlay",
              "size": 10,
              "solidity": 0.2
             }
            },
            "type": "bar"
           }
          ],
          "barpolar": [
           {
            "marker": {
             "line": {
              "color": "#E5ECF6",
              "width": 0.5
             },
             "pattern": {
              "fillmode": "overlay",
              "size": 10,
              "solidity": 0.2
             }
            },
            "type": "barpolar"
           }
          ],
          "carpet": [
           {
            "aaxis": {
             "endlinecolor": "#2a3f5f",
             "gridcolor": "white",
             "linecolor": "white",
             "minorgridcolor": "white",
             "startlinecolor": "#2a3f5f"
            },
            "baxis": {
             "endlinecolor": "#2a3f5f",
             "gridcolor": "white",
             "linecolor": "white",
             "minorgridcolor": "white",
             "startlinecolor": "#2a3f5f"
            },
            "type": "carpet"
           }
          ],
          "choropleth": [
           {
            "colorbar": {
             "outlinewidth": 0,
             "ticks": ""
            },
            "type": "choropleth"
           }
          ],
          "contour": [
           {
            "colorbar": {
             "outlinewidth": 0,
             "ticks": ""
            },
            "colorscale": [
             [
              0,
              "#0d0887"
             ],
             [
              0.1111111111111111,
              "#46039f"
             ],
             [
              0.2222222222222222,
              "#7201a8"
             ],
             [
              0.3333333333333333,
              "#9c179e"
             ],
             [
              0.4444444444444444,
              "#bd3786"
             ],
             [
              0.5555555555555556,
              "#d8576b"
             ],
             [
              0.6666666666666666,
              "#ed7953"
             ],
             [
              0.7777777777777778,
              "#fb9f3a"
             ],
             [
              0.8888888888888888,
              "#fdca26"
             ],
             [
              1,
              "#f0f921"
             ]
            ],
            "type": "contour"
           }
          ],
          "contourcarpet": [
           {
            "colorbar": {
             "outlinewidth": 0,
             "ticks": ""
            },
            "type": "contourcarpet"
           }
          ],
          "heatmap": [
           {
            "colorbar": {
             "outlinewidth": 0,
             "ticks": ""
            },
            "colorscale": [
             [
              0,
              "#0d0887"
             ],
             [
              0.1111111111111111,
              "#46039f"
             ],
             [
              0.2222222222222222,
              "#7201a8"
             ],
             [
              0.3333333333333333,
              "#9c179e"
             ],
             [
              0.4444444444444444,
              "#bd3786"
             ],
             [
              0.5555555555555556,
              "#d8576b"
             ],
             [
              0.6666666666666666,
              "#ed7953"
             ],
             [
              0.7777777777777778,
              "#fb9f3a"
             ],
             [
              0.8888888888888888,
              "#fdca26"
             ],
             [
              1,
              "#f0f921"
             ]
            ],
            "type": "heatmap"
           }
          ],
          "heatmapgl": [
           {
            "colorbar": {
             "outlinewidth": 0,
             "ticks": ""
            },
            "colorscale": [
             [
              0,
              "#0d0887"
             ],
             [
              0.1111111111111111,
              "#46039f"
             ],
             [
              0.2222222222222222,
              "#7201a8"
             ],
             [
              0.3333333333333333,
              "#9c179e"
             ],
             [
              0.4444444444444444,
              "#bd3786"
             ],
             [
              0.5555555555555556,
              "#d8576b"
             ],
             [
              0.6666666666666666,
              "#ed7953"
             ],
             [
              0.7777777777777778,
              "#fb9f3a"
             ],
             [
              0.8888888888888888,
              "#fdca26"
             ],
             [
              1,
              "#f0f921"
             ]
            ],
            "type": "heatmapgl"
           }
          ],
          "histogram": [
           {
            "marker": {
             "pattern": {
              "fillmode": "overlay",
              "size": 10,
              "solidity": 0.2
             }
            },
            "type": "histogram"
           }
          ],
          "histogram2d": [
           {
            "colorbar": {
             "outlinewidth": 0,
             "ticks": ""
            },
            "colorscale": [
             [
              0,
              "#0d0887"
             ],
             [
              0.1111111111111111,
              "#46039f"
             ],
             [
              0.2222222222222222,
              "#7201a8"
             ],
             [
              0.3333333333333333,
              "#9c179e"
             ],
             [
              0.4444444444444444,
              "#bd3786"
             ],
             [
              0.5555555555555556,
              "#d8576b"
             ],
             [
              0.6666666666666666,
              "#ed7953"
             ],
             [
              0.7777777777777778,
              "#fb9f3a"
             ],
             [
              0.8888888888888888,
              "#fdca26"
             ],
             [
              1,
              "#f0f921"
             ]
            ],
            "type": "histogram2d"
           }
          ],
          "histogram2dcontour": [
           {
            "colorbar": {
             "outlinewidth": 0,
             "ticks": ""
            },
            "colorscale": [
             [
              0,
              "#0d0887"
             ],
             [
              0.1111111111111111,
              "#46039f"
             ],
             [
              0.2222222222222222,
              "#7201a8"
             ],
             [
              0.3333333333333333,
              "#9c179e"
             ],
             [
              0.4444444444444444,
              "#bd3786"
             ],
             [
              0.5555555555555556,
              "#d8576b"
             ],
             [
              0.6666666666666666,
              "#ed7953"
             ],
             [
              0.7777777777777778,
              "#fb9f3a"
             ],
             [
              0.8888888888888888,
              "#fdca26"
             ],
             [
              1,
              "#f0f921"
             ]
            ],
            "type": "histogram2dcontour"
           }
          ],
          "mesh3d": [
           {
            "colorbar": {
             "outlinewidth": 0,
             "ticks": ""
            },
            "type": "mesh3d"
           }
          ],
          "parcoords": [
           {
            "line": {
             "colorbar": {
              "outlinewidth": 0,
              "ticks": ""
             }
            },
            "type": "parcoords"
           }
          ],
          "pie": [
           {
            "automargin": true,
            "type": "pie"
           }
          ],
          "scatter": [
           {
            "fillpattern": {
             "fillmode": "overlay",
             "size": 10,
             "solidity": 0.2
            },
            "type": "scatter"
           }
          ],
          "scatter3d": [
           {
            "line": {
             "colorbar": {
              "outlinewidth": 0,
              "ticks": ""
             }
            },
            "marker": {
             "colorbar": {
              "outlinewidth": 0,
              "ticks": ""
             }
            },
            "type": "scatter3d"
           }
          ],
          "scattercarpet": [
           {
            "marker": {
             "colorbar": {
              "outlinewidth": 0,
              "ticks": ""
             }
            },
            "type": "scattercarpet"
           }
          ],
          "scattergeo": [
           {
            "marker": {
             "colorbar": {
              "outlinewidth": 0,
              "ticks": ""
             }
            },
            "type": "scattergeo"
           }
          ],
          "scattergl": [
           {
            "marker": {
             "colorbar": {
              "outlinewidth": 0,
              "ticks": ""
             }
            },
            "type": "scattergl"
           }
          ],
          "scattermapbox": [
           {
            "marker": {
             "colorbar": {
              "outlinewidth": 0,
              "ticks": ""
             }
            },
            "type": "scattermapbox"
           }
          ],
          "scatterpolar": [
           {
            "marker": {
             "colorbar": {
              "outlinewidth": 0,
              "ticks": ""
             }
            },
            "type": "scatterpolar"
           }
          ],
          "scatterpolargl": [
           {
            "marker": {
             "colorbar": {
              "outlinewidth": 0,
              "ticks": ""
             }
            },
            "type": "scatterpolargl"
           }
          ],
          "scatterternary": [
           {
            "marker": {
             "colorbar": {
              "outlinewidth": 0,
              "ticks": ""
             }
            },
            "type": "scatterternary"
           }
          ],
          "surface": [
           {
            "colorbar": {
             "outlinewidth": 0,
             "ticks": ""
            },
            "colorscale": [
             [
              0,
              "#0d0887"
             ],
             [
              0.1111111111111111,
              "#46039f"
             ],
             [
              0.2222222222222222,
              "#7201a8"
             ],
             [
              0.3333333333333333,
              "#9c179e"
             ],
             [
              0.4444444444444444,
              "#bd3786"
             ],
             [
              0.5555555555555556,
              "#d8576b"
             ],
             [
              0.6666666666666666,
              "#ed7953"
             ],
             [
              0.7777777777777778,
              "#fb9f3a"
             ],
             [
              0.8888888888888888,
              "#fdca26"
             ],
             [
              1,
              "#f0f921"
             ]
            ],
            "type": "surface"
           }
          ],
          "table": [
           {
            "cells": {
             "fill": {
              "color": "#EBF0F8"
             },
             "line": {
              "color": "white"
             }
            },
            "header": {
             "fill": {
              "color": "#C8D4E3"
             },
             "line": {
              "color": "white"
             }
            },
            "type": "table"
           }
          ]
         },
         "layout": {
          "annotationdefaults": {
           "arrowcolor": "#2a3f5f",
           "arrowhead": 0,
           "arrowwidth": 1
          },
          "autotypenumbers": "strict",
          "coloraxis": {
           "colorbar": {
            "outlinewidth": 0,
            "ticks": ""
           }
          },
          "colorscale": {
           "diverging": [
            [
             0,
             "#8e0152"
            ],
            [
             0.1,
             "#c51b7d"
            ],
            [
             0.2,
             "#de77ae"
            ],
            [
             0.3,
             "#f1b6da"
            ],
            [
             0.4,
             "#fde0ef"
            ],
            [
             0.5,
             "#f7f7f7"
            ],
            [
             0.6,
             "#e6f5d0"
            ],
            [
             0.7,
             "#b8e186"
            ],
            [
             0.8,
             "#7fbc41"
            ],
            [
             0.9,
             "#4d9221"
            ],
            [
             1,
             "#276419"
            ]
           ],
           "sequential": [
            [
             0,
             "#0d0887"
            ],
            [
             0.1111111111111111,
             "#46039f"
            ],
            [
             0.2222222222222222,
             "#7201a8"
            ],
            [
             0.3333333333333333,
             "#9c179e"
            ],
            [
             0.4444444444444444,
             "#bd3786"
            ],
            [
             0.5555555555555556,
             "#d8576b"
            ],
            [
             0.6666666666666666,
             "#ed7953"
            ],
            [
             0.7777777777777778,
             "#fb9f3a"
            ],
            [
             0.8888888888888888,
             "#fdca26"
            ],
            [
             1,
             "#f0f921"
            ]
           ],
           "sequentialminus": [
            [
             0,
             "#0d0887"
            ],
            [
             0.1111111111111111,
             "#46039f"
            ],
            [
             0.2222222222222222,
             "#7201a8"
            ],
            [
             0.3333333333333333,
             "#9c179e"
            ],
            [
             0.4444444444444444,
             "#bd3786"
            ],
            [
             0.5555555555555556,
             "#d8576b"
            ],
            [
             0.6666666666666666,
             "#ed7953"
            ],
            [
             0.7777777777777778,
             "#fb9f3a"
            ],
            [
             0.8888888888888888,
             "#fdca26"
            ],
            [
             1,
             "#f0f921"
            ]
           ]
          },
          "colorway": [
           "#636efa",
           "#EF553B",
           "#00cc96",
           "#ab63fa",
           "#FFA15A",
           "#19d3f3",
           "#FF6692",
           "#B6E880",
           "#FF97FF",
           "#FECB52"
          ],
          "font": {
           "color": "#2a3f5f"
          },
          "geo": {
           "bgcolor": "white",
           "lakecolor": "white",
           "landcolor": "#E5ECF6",
           "showlakes": true,
           "showland": true,
           "subunitcolor": "white"
          },
          "hoverlabel": {
           "align": "left"
          },
          "hovermode": "closest",
          "mapbox": {
           "style": "light"
          },
          "paper_bgcolor": "white",
          "plot_bgcolor": "#E5ECF6",
          "polar": {
           "angularaxis": {
            "gridcolor": "white",
            "linecolor": "white",
            "ticks": ""
           },
           "bgcolor": "#E5ECF6",
           "radialaxis": {
            "gridcolor": "white",
            "linecolor": "white",
            "ticks": ""
           }
          },
          "scene": {
           "xaxis": {
            "backgroundcolor": "#E5ECF6",
            "gridcolor": "white",
            "gridwidth": 2,
            "linecolor": "white",
            "showbackground": true,
            "ticks": "",
            "zerolinecolor": "white"
           },
           "yaxis": {
            "backgroundcolor": "#E5ECF6",
            "gridcolor": "white",
            "gridwidth": 2,
            "linecolor": "white",
            "showbackground": true,
            "ticks": "",
            "zerolinecolor": "white"
           },
           "zaxis": {
            "backgroundcolor": "#E5ECF6",
            "gridcolor": "white",
            "gridwidth": 2,
            "linecolor": "white",
            "showbackground": true,
            "ticks": "",
            "zerolinecolor": "white"
           }
          },
          "shapedefaults": {
           "line": {
            "color": "#2a3f5f"
           }
          },
          "ternary": {
           "aaxis": {
            "gridcolor": "white",
            "linecolor": "white",
            "ticks": ""
           },
           "baxis": {
            "gridcolor": "white",
            "linecolor": "white",
            "ticks": ""
           },
           "bgcolor": "#E5ECF6",
           "caxis": {
            "gridcolor": "white",
            "linecolor": "white",
            "ticks": ""
           }
          },
          "title": {
           "x": 0.05
          },
          "xaxis": {
           "automargin": true,
           "gridcolor": "white",
           "linecolor": "white",
           "ticks": "",
           "title": {
            "standoff": 15
           },
           "zerolinecolor": "white",
           "zerolinewidth": 2
          },
          "yaxis": {
           "automargin": true,
           "gridcolor": "white",
           "linecolor": "white",
           "ticks": "",
           "title": {
            "standoff": 15
           },
           "zerolinecolor": "white",
           "zerolinewidth": 2
          }
         }
        },
        "title": {
         "text": "Role Distribution in Combinations for Scenario 2"
        },
        "xaxis": {
         "title": {
          "text": "Candidates"
         }
        },
        "yaxis": {
         "range": [
          0,
          8
         ],
         "title": {
          "text": "Number of Roles"
         }
        }
       }
      },
      "text/html": [
       "<div>                            <div id=\"86e6f891-e0d7-4ffc-b3f4-525b58835502\" class=\"plotly-graph-div\" style=\"height:525px; width:100%;\"></div>            <script type=\"text/javascript\">                require([\"plotly\"], function(Plotly) {                    window.PLOTLYENV=window.PLOTLYENV || {};                                    if (document.getElementById(\"86e6f891-e0d7-4ffc-b3f4-525b58835502\")) {                    Plotly.newPlot(                        \"86e6f891-e0d7-4ffc-b3f4-525b58835502\",                        [{\"hoverinfo\":\"text\",\"name\":\"Combination 1\",\"text\":[\"Python_Programmer1\",\"Python_Programmer2\",\"AI_Engineer1, Web_Designer\",\"AI_Engineer2\",\"AI_Engineer3\",\"Database_Admin\",\"Systems_Engineer\"],\"x\":[\"Bruce\",\"Peter\",\"Anita\",\"Jim\",\"Juan\",\"Jane\",\"Mary\"],\"y\":[1,1,2,1,1,1,1],\"type\":\"bar\"},{\"hoverinfo\":\"text\",\"name\":\"Combination 2\",\"text\":[\"Python_Programmer1, Systems_Engineer\",\"Python_Programmer2\",\"AI_Engineer1\",\"AI_Engineer2\",\"AI_Engineer3\",\"Database_Admin\",\"Web_Designer\"],\"x\":[\"Bruce\",\"Peter\",\"Anita\",\"Jim\",\"Juan\",\"Jane\",\"Mary\"],\"y\":[2,1,1,1,1,1,1],\"type\":\"bar\"},{\"hoverinfo\":\"text\",\"name\":\"Combination 3\",\"text\":[\"Python_Programmer1\",\"Python_Programmer2\",\"AI_Engineer1\",\"AI_Engineer2, Systems_Engineer\",\"AI_Engineer3\",\"Database_Admin\",\"Web_Designer\"],\"x\":[\"Bruce\",\"Peter\",\"Anita\",\"Jim\",\"Juan\",\"Jane\",\"Mary\"],\"y\":[1,1,1,2,1,1,1],\"type\":\"bar\"},{\"hoverinfo\":\"text\",\"name\":\"Combination 4\",\"text\":[\"Python_Programmer1\",\"Python_Programmer2\",\"AI_Engineer1\",\"AI_Engineer2\",\"AI_Engineer3\",\"Database_Admin\",\"Web_Designer, Systems_Engineer\"],\"x\":[\"Bruce\",\"Peter\",\"Anita\",\"Jim\",\"Juan\",\"Jane\",\"Mary\"],\"y\":[1,1,1,1,1,1,2],\"type\":\"bar\"},{\"hoverinfo\":\"text\",\"name\":\"Combination 5\",\"text\":[\"Python_Programmer1\",\"Python_Programmer2\",\"AI_Engineer1, Web_Designer\",\"AI_Engineer2\",\"AI_Engineer3\",\"Database_Admin\",\"Systems_Engineer\"],\"x\":[\"Bruce\",\"Peter\",\"Anita\",\"Jim\",\"Juan\",\"Jane\",\"Mary\"],\"y\":[1,1,2,1,1,1,1],\"type\":\"bar\"},{\"hoverinfo\":\"text\",\"name\":\"Combination 6\",\"text\":[\"Python_Programmer1\",\"Python_Programmer2\",\"AI_Engineer1\",\"AI_Engineer2, Web_Designer\",\"AI_Engineer3\",\"Database_Admin\",\"Systems_Engineer\"],\"x\":[\"Bruce\",\"Peter\",\"Anita\",\"Jim\",\"Juan\",\"Jane\",\"Mary\"],\"y\":[1,1,1,2,1,1,1],\"type\":\"bar\"},{\"hoverinfo\":\"text\",\"name\":\"Combination 7\",\"text\":[\"Python_Programmer1\",\"Python_Programmer2\",\"AI_Engineer1\",\"AI_Engineer2\",\"AI_Engineer3, Web_Designer\",\"Database_Admin\",\"Systems_Engineer\"],\"x\":[\"Bruce\",\"Peter\",\"Anita\",\"Jim\",\"Juan\",\"Jane\",\"Mary\"],\"y\":[1,1,1,1,2,1,1],\"type\":\"bar\"},{\"hoverinfo\":\"text\",\"name\":\"Combination 8\",\"text\":[\"Python_Programmer1\",\"Python_Programmer2\",\"AI_Engineer1\",\"AI_Engineer2\",\"AI_Engineer3\",\"Database_Admin, Web_Designer\",\"Systems_Engineer\"],\"x\":[\"Bruce\",\"Peter\",\"Anita\",\"Jim\",\"Juan\",\"Jane\",\"Mary\"],\"y\":[1,1,1,1,1,2,1],\"type\":\"bar\"},{\"hoverinfo\":\"text\",\"name\":\"Combination 9\",\"text\":[\"Python_Programmer1\",\"Python_Programmer2\",\"AI_Engineer1, Web_Designer\",\"AI_Engineer2\",\"AI_Engineer3\",\"Database_Admin\",\"Systems_Engineer\"],\"x\":[\"Bruce\",\"Peter\",\"Anita\",\"Jim\",\"Juan\",\"Jane\",\"Mary\"],\"y\":[1,1,2,1,1,1,1],\"type\":\"bar\"},{\"hoverinfo\":\"text\",\"name\":\"Combination 10\",\"text\":[\"Python_Programmer1\",\"Python_Programmer2\",\"AI_Engineer1\",\"AI_Engineer2\",\"AI_Engineer3\",\"Database_Admin, Web_Designer\",\"Systems_Engineer\"],\"x\":[\"Bruce\",\"Peter\",\"Anita\",\"Jim\",\"Juan\",\"Jane\",\"Mary\"],\"y\":[1,1,1,1,1,2,1],\"type\":\"bar\"}],                        {\"template\":{\"data\":{\"histogram2dcontour\":[{\"type\":\"histogram2dcontour\",\"colorbar\":{\"outlinewidth\":0,\"ticks\":\"\"},\"colorscale\":[[0.0,\"#0d0887\"],[0.1111111111111111,\"#46039f\"],[0.2222222222222222,\"#7201a8\"],[0.3333333333333333,\"#9c179e\"],[0.4444444444444444,\"#bd3786\"],[0.5555555555555556,\"#d8576b\"],[0.6666666666666666,\"#ed7953\"],[0.7777777777777778,\"#fb9f3a\"],[0.8888888888888888,\"#fdca26\"],[1.0,\"#f0f921\"]]}],\"choropleth\":[{\"type\":\"choropleth\",\"colorbar\":{\"outlinewidth\":0,\"ticks\":\"\"}}],\"histogram2d\":[{\"type\":\"histogram2d\",\"colorbar\":{\"outlinewidth\":0,\"ticks\":\"\"},\"colorscale\":[[0.0,\"#0d0887\"],[0.1111111111111111,\"#46039f\"],[0.2222222222222222,\"#7201a8\"],[0.3333333333333333,\"#9c179e\"],[0.4444444444444444,\"#bd3786\"],[0.5555555555555556,\"#d8576b\"],[0.6666666666666666,\"#ed7953\"],[0.7777777777777778,\"#fb9f3a\"],[0.8888888888888888,\"#fdca26\"],[1.0,\"#f0f921\"]]}],\"heatmap\":[{\"type\":\"heatmap\",\"colorbar\":{\"outlinewidth\":0,\"ticks\":\"\"},\"colorscale\":[[0.0,\"#0d0887\"],[0.1111111111111111,\"#46039f\"],[0.2222222222222222,\"#7201a8\"],[0.3333333333333333,\"#9c179e\"],[0.4444444444444444,\"#bd3786\"],[0.5555555555555556,\"#d8576b\"],[0.6666666666666666,\"#ed7953\"],[0.7777777777777778,\"#fb9f3a\"],[0.8888888888888888,\"#fdca26\"],[1.0,\"#f0f921\"]]}],\"heatmapgl\":[{\"type\":\"heatmapgl\",\"colorbar\":{\"outlinewidth\":0,\"ticks\":\"\"},\"colorscale\":[[0.0,\"#0d0887\"],[0.1111111111111111,\"#46039f\"],[0.2222222222222222,\"#7201a8\"],[0.3333333333333333,\"#9c179e\"],[0.4444444444444444,\"#bd3786\"],[0.5555555555555556,\"#d8576b\"],[0.6666666666666666,\"#ed7953\"],[0.7777777777777778,\"#fb9f3a\"],[0.8888888888888888,\"#fdca26\"],[1.0,\"#f0f921\"]]}],\"contourcarpet\":[{\"type\":\"contourcarpet\",\"colorbar\":{\"outlinewidth\":0,\"ticks\":\"\"}}],\"contour\":[{\"type\":\"contour\",\"colorbar\":{\"outlinewidth\":0,\"ticks\":\"\"},\"colorscale\":[[0.0,\"#0d0887\"],[0.1111111111111111,\"#46039f\"],[0.2222222222222222,\"#7201a8\"],[0.3333333333333333,\"#9c179e\"],[0.4444444444444444,\"#bd3786\"],[0.5555555555555556,\"#d8576b\"],[0.6666666666666666,\"#ed7953\"],[0.7777777777777778,\"#fb9f3a\"],[0.8888888888888888,\"#fdca26\"],[1.0,\"#f0f921\"]]}],\"surface\":[{\"type\":\"surface\",\"colorbar\":{\"outlinewidth\":0,\"ticks\":\"\"},\"colorscale\":[[0.0,\"#0d0887\"],[0.1111111111111111,\"#46039f\"],[0.2222222222222222,\"#7201a8\"],[0.3333333333333333,\"#9c179e\"],[0.4444444444444444,\"#bd3786\"],[0.5555555555555556,\"#d8576b\"],[0.6666666666666666,\"#ed7953\"],[0.7777777777777778,\"#fb9f3a\"],[0.8888888888888888,\"#fdca26\"],[1.0,\"#f0f921\"]]}],\"mesh3d\":[{\"type\":\"mesh3d\",\"colorbar\":{\"outlinewidth\":0,\"ticks\":\"\"}}],\"scatter\":[{\"fillpattern\":{\"fillmode\":\"overlay\",\"size\":10,\"solidity\":0.2},\"type\":\"scatter\"}],\"parcoords\":[{\"type\":\"parcoords\",\"line\":{\"colorbar\":{\"outlinewidth\":0,\"ticks\":\"\"}}}],\"scatterpolargl\":[{\"type\":\"scatterpolargl\",\"marker\":{\"colorbar\":{\"outlinewidth\":0,\"ticks\":\"\"}}}],\"bar\":[{\"error_x\":{\"color\":\"#2a3f5f\"},\"error_y\":{\"color\":\"#2a3f5f\"},\"marker\":{\"line\":{\"color\":\"#E5ECF6\",\"width\":0.5},\"pattern\":{\"fillmode\":\"overlay\",\"size\":10,\"solidity\":0.2}},\"type\":\"bar\"}],\"scattergeo\":[{\"type\":\"scattergeo\",\"marker\":{\"colorbar\":{\"outlinewidth\":0,\"ticks\":\"\"}}}],\"scatterpolar\":[{\"type\":\"scatterpolar\",\"marker\":{\"colorbar\":{\"outlinewidth\":0,\"ticks\":\"\"}}}],\"histogram\":[{\"marker\":{\"pattern\":{\"fillmode\":\"overlay\",\"size\":10,\"solidity\":0.2}},\"type\":\"histogram\"}],\"scattergl\":[{\"type\":\"scattergl\",\"marker\":{\"colorbar\":{\"outlinewidth\":0,\"ticks\":\"\"}}}],\"scatter3d\":[{\"type\":\"scatter3d\",\"line\":{\"colorbar\":{\"outlinewidth\":0,\"ticks\":\"\"}},\"marker\":{\"colorbar\":{\"outlinewidth\":0,\"ticks\":\"\"}}}],\"scattermapbox\":[{\"type\":\"scattermapbox\",\"marker\":{\"colorbar\":{\"outlinewidth\":0,\"ticks\":\"\"}}}],\"scatterternary\":[{\"type\":\"scatterternary\",\"marker\":{\"colorbar\":{\"outlinewidth\":0,\"ticks\":\"\"}}}],\"scattercarpet\":[{\"type\":\"scattercarpet\",\"marker\":{\"colorbar\":{\"outlinewidth\":0,\"ticks\":\"\"}}}],\"carpet\":[{\"aaxis\":{\"endlinecolor\":\"#2a3f5f\",\"gridcolor\":\"white\",\"linecolor\":\"white\",\"minorgridcolor\":\"white\",\"startlinecolor\":\"#2a3f5f\"},\"baxis\":{\"endlinecolor\":\"#2a3f5f\",\"gridcolor\":\"white\",\"linecolor\":\"white\",\"minorgridcolor\":\"white\",\"startlinecolor\":\"#2a3f5f\"},\"type\":\"carpet\"}],\"table\":[{\"cells\":{\"fill\":{\"color\":\"#EBF0F8\"},\"line\":{\"color\":\"white\"}},\"header\":{\"fill\":{\"color\":\"#C8D4E3\"},\"line\":{\"color\":\"white\"}},\"type\":\"table\"}],\"barpolar\":[{\"marker\":{\"line\":{\"color\":\"#E5ECF6\",\"width\":0.5},\"pattern\":{\"fillmode\":\"overlay\",\"size\":10,\"solidity\":0.2}},\"type\":\"barpolar\"}],\"pie\":[{\"automargin\":true,\"type\":\"pie\"}]},\"layout\":{\"autotypenumbers\":\"strict\",\"colorway\":[\"#636efa\",\"#EF553B\",\"#00cc96\",\"#ab63fa\",\"#FFA15A\",\"#19d3f3\",\"#FF6692\",\"#B6E880\",\"#FF97FF\",\"#FECB52\"],\"font\":{\"color\":\"#2a3f5f\"},\"hovermode\":\"closest\",\"hoverlabel\":{\"align\":\"left\"},\"paper_bgcolor\":\"white\",\"plot_bgcolor\":\"#E5ECF6\",\"polar\":{\"bgcolor\":\"#E5ECF6\",\"angularaxis\":{\"gridcolor\":\"white\",\"linecolor\":\"white\",\"ticks\":\"\"},\"radialaxis\":{\"gridcolor\":\"white\",\"linecolor\":\"white\",\"ticks\":\"\"}},\"ternary\":{\"bgcolor\":\"#E5ECF6\",\"aaxis\":{\"gridcolor\":\"white\",\"linecolor\":\"white\",\"ticks\":\"\"},\"baxis\":{\"gridcolor\":\"white\",\"linecolor\":\"white\",\"ticks\":\"\"},\"caxis\":{\"gridcolor\":\"white\",\"linecolor\":\"white\",\"ticks\":\"\"}},\"coloraxis\":{\"colorbar\":{\"outlinewidth\":0,\"ticks\":\"\"}},\"colorscale\":{\"sequential\":[[0.0,\"#0d0887\"],[0.1111111111111111,\"#46039f\"],[0.2222222222222222,\"#7201a8\"],[0.3333333333333333,\"#9c179e\"],[0.4444444444444444,\"#bd3786\"],[0.5555555555555556,\"#d8576b\"],[0.6666666666666666,\"#ed7953\"],[0.7777777777777778,\"#fb9f3a\"],[0.8888888888888888,\"#fdca26\"],[1.0,\"#f0f921\"]],\"sequentialminus\":[[0.0,\"#0d0887\"],[0.1111111111111111,\"#46039f\"],[0.2222222222222222,\"#7201a8\"],[0.3333333333333333,\"#9c179e\"],[0.4444444444444444,\"#bd3786\"],[0.5555555555555556,\"#d8576b\"],[0.6666666666666666,\"#ed7953\"],[0.7777777777777778,\"#fb9f3a\"],[0.8888888888888888,\"#fdca26\"],[1.0,\"#f0f921\"]],\"diverging\":[[0,\"#8e0152\"],[0.1,\"#c51b7d\"],[0.2,\"#de77ae\"],[0.3,\"#f1b6da\"],[0.4,\"#fde0ef\"],[0.5,\"#f7f7f7\"],[0.6,\"#e6f5d0\"],[0.7,\"#b8e186\"],[0.8,\"#7fbc41\"],[0.9,\"#4d9221\"],[1,\"#276419\"]]},\"xaxis\":{\"gridcolor\":\"white\",\"linecolor\":\"white\",\"ticks\":\"\",\"title\":{\"standoff\":15},\"zerolinecolor\":\"white\",\"automargin\":true,\"zerolinewidth\":2},\"yaxis\":{\"gridcolor\":\"white\",\"linecolor\":\"white\",\"ticks\":\"\",\"title\":{\"standoff\":15},\"zerolinecolor\":\"white\",\"automargin\":true,\"zerolinewidth\":2},\"scene\":{\"xaxis\":{\"backgroundcolor\":\"#E5ECF6\",\"gridcolor\":\"white\",\"linecolor\":\"white\",\"showbackground\":true,\"ticks\":\"\",\"zerolinecolor\":\"white\",\"gridwidth\":2},\"yaxis\":{\"backgroundcolor\":\"#E5ECF6\",\"gridcolor\":\"white\",\"linecolor\":\"white\",\"showbackground\":true,\"ticks\":\"\",\"zerolinecolor\":\"white\",\"gridwidth\":2},\"zaxis\":{\"backgroundcolor\":\"#E5ECF6\",\"gridcolor\":\"white\",\"linecolor\":\"white\",\"showbackground\":true,\"ticks\":\"\",\"zerolinecolor\":\"white\",\"gridwidth\":2}},\"shapedefaults\":{\"line\":{\"color\":\"#2a3f5f\"}},\"annotationdefaults\":{\"arrowcolor\":\"#2a3f5f\",\"arrowhead\":0,\"arrowwidth\":1},\"geo\":{\"bgcolor\":\"white\",\"landcolor\":\"#E5ECF6\",\"subunitcolor\":\"white\",\"showland\":true,\"showlakes\":true,\"lakecolor\":\"white\"},\"title\":{\"x\":0.05},\"mapbox\":{\"style\":\"light\"}}},\"yaxis\":{\"title\":{\"text\":\"Number of Roles\"},\"range\":[0,8]},\"barmode\":\"group\",\"title\":{\"text\":\"Role Distribution in Combinations for Scenario 2\"},\"xaxis\":{\"title\":{\"text\":\"Candidates\"}}},                        {\"responsive\": true}                    ).then(function(){\n",
       "                            \n",
       "var gd = document.getElementById('86e6f891-e0d7-4ffc-b3f4-525b58835502');\n",
       "var x = new MutationObserver(function (mutations, observer) {{\n",
       "        var display = window.getComputedStyle(gd).display;\n",
       "        if (!display || display === 'none') {{\n",
       "            console.log([gd, 'removed!']);\n",
       "            Plotly.purge(gd);\n",
       "            observer.disconnect();\n",
       "        }}\n",
       "}});\n",
       "\n",
       "// Listen for the removal of the full notebook cells\n",
       "var notebookContainer = gd.closest('#notebook-container');\n",
       "if (notebookContainer) {{\n",
       "    x.observe(notebookContainer, {childList: true});\n",
       "}}\n",
       "\n",
       "// Listen for the clearing of the current output cell\n",
       "var outputEl = gd.closest('.output');\n",
       "if (outputEl) {{\n",
       "    x.observe(outputEl, {childList: true});\n",
       "}}\n",
       "\n",
       "                        })                };                });            </script>        </div>"
      ]
     },
     "metadata": {},
     "output_type": "display_data"
    }
   ],
   "source": [
    "import plotly.graph_objects as go\n",
    "\n",
    "# Define your combinations data here\n",
    "combinations_scenario_2 = {\n",
    "    \"Combination 1\": {\n",
    "        \"Bruce\": [\"Python_Programmer1\"],\n",
    "        \"Peter\": [\"Python_Programmer2\"],\n",
    "        \"Anita\": [\"AI_Engineer1\", \"Web_Designer\"],\n",
    "        \"Jim\": [\"AI_Engineer2\"],\n",
    "        \"Juan\": [\"AI_Engineer3\"],\n",
    "        \"Jane\": [\"Database_Admin\"],\n",
    "        \"Mary\": [\"Systems_Engineer\"]\n",
    "    },\n",
    "    \"Combination 2\": {\n",
    "        \"Bruce\": [\"Python_Programmer1\", \"Systems_Engineer\"],\n",
    "        \"Peter\": [\"Python_Programmer2\"],\n",
    "        \"Anita\": [\"AI_Engineer1\"],\n",
    "        \"Jim\": [\"AI_Engineer2\"],\n",
    "        \"Juan\": [\"AI_Engineer3\"],\n",
    "        \"Jane\": [\"Database_Admin\"],\n",
    "        \"Mary\": [\"Web_Designer\"]\n",
    "    },\n",
    "    \"Combination 3\": {\n",
    "        \"Bruce\": [\"Python_Programmer1\"],\n",
    "        \"Peter\": [\"Python_Programmer2\"],\n",
    "        \"Anita\": [\"AI_Engineer1\"],\n",
    "        \"Jim\": [\"AI_Engineer2\", \"Systems_Engineer\"],\n",
    "        \"Juan\": [\"AI_Engineer3\"],\n",
    "        \"Jane\": [\"Database_Admin\"],\n",
    "        \"Mary\": [\"Web_Designer\"]\n",
    "    },\n",
    "    \"Combination 4\": {\n",
    "        \"Bruce\": [\"Python_Programmer1\"],\n",
    "        \"Peter\": [\"Python_Programmer2\"],\n",
    "        \"Anita\": [\"AI_Engineer1\"],\n",
    "        \"Jim\": [\"AI_Engineer2\"],\n",
    "        \"Juan\": [\"AI_Engineer3\"],\n",
    "        \"Jane\": [\"Database_Admin\"],\n",
    "        \"Mary\": [\"Web_Designer\", \"Systems_Engineer\"]\n",
    "    },\n",
    "    \"Combination 5\": {\n",
    "        \"Bruce\": [\"Python_Programmer1\"],\n",
    "        \"Peter\": [\"Python_Programmer2\"],\n",
    "        \"Anita\": [\"AI_Engineer1\", \"Web_Designer\"],\n",
    "        \"Jim\": [\"AI_Engineer2\"],\n",
    "        \"Juan\": [\"AI_Engineer3\"],\n",
    "        \"Jane\": [\"Database_Admin\"],\n",
    "        \"Mary\": [\"Systems_Engineer\"]\n",
    "    },\n",
    "    \"Combination 6\": {\n",
    "        \"Bruce\": [\"Python_Programmer1\"],\n",
    "        \"Peter\": [\"Python_Programmer2\"],\n",
    "        \"Anita\": [\"AI_Engineer1\"],\n",
    "        \"Jim\": [\"AI_Engineer2\", \"Web_Designer\"],\n",
    "        \"Juan\": [\"AI_Engineer3\"],\n",
    "        \"Jane\": [\"Database_Admin\"],\n",
    "        \"Mary\": [\"Systems_Engineer\"]\n",
    "    },\n",
    "    \"Combination 7\": {\n",
    "        \"Bruce\": [\"Python_Programmer1\"],\n",
    "        \"Peter\": [\"Python_Programmer2\"],\n",
    "        \"Anita\": [\"AI_Engineer1\"],\n",
    "        \"Jim\": [\"AI_Engineer2\"],\n",
    "        \"Juan\": [\"AI_Engineer3\", \"Web_Designer\"],\n",
    "        \"Jane\": [\"Database_Admin\"],\n",
    "        \"Mary\": [\"Systems_Engineer\"]\n",
    "    },\n",
    "    \"Combination 8\": {\n",
    "        \"Bruce\": [\"Python_Programmer1\"],\n",
    "        \"Peter\": [\"Python_Programmer2\"],\n",
    "        \"Anita\": [\"AI_Engineer1\"],\n",
    "        \"Jim\": [\"AI_Engineer2\"],\n",
    "        \"Juan\": [\"AI_Engineer3\"],\n",
    "        \"Jane\": [\"Database_Admin\", \"Web_Designer\"],\n",
    "        \"Mary\": [\"Systems_Engineer\"]\n",
    "    },\n",
    "    \"Combination 9\": {\n",
    "        \"Bruce\": [\"Python_Programmer1\"],\n",
    "        \"Peter\": [\"Python_Programmer2\"],\n",
    "        \"Anita\": [\"AI_Engineer1\", \"Web_Designer\"],\n",
    "        \"Jim\": [\"AI_Engineer2\"],\n",
    "        \"Juan\": [\"AI_Engineer3\"],\n",
    "        \"Jane\": [\"Database_Admin\"],\n",
    "        \"Mary\": [\"Systems_Engineer\"]\n",
    "    },\n",
    "    \"Combination 10\": {\n",
    "        \"Bruce\": [\"Python_Programmer1\"],\n",
    "        \"Peter\": [\"Python_Programmer2\"],\n",
    "        \"Anita\": [\"AI_Engineer1\"],\n",
    "        \"Jim\": [\"AI_Engineer2\"],\n",
    "        \"Juan\": [\"AI_Engineer3\"],\n",
    "        \"Jane\": [\"Database_Admin\", \"Web_Designer\"],\n",
    "        \"Mary\": [\"Systems_Engineer\"]\n",
    "    }\n",
    "}\n",
    "\n",
    "# Initialize a list for traces\n",
    "traces = []\n",
    "\n",
    "# Create a trace for each combination\n",
    "for combo_name, roles in combinations_scenario_2.items():\n",
    "    trace = go.Bar(\n",
    "        x=list(roles.keys()),\n",
    "        y=[len(roles[candidate]) for candidate in roles],\n",
    "        name=combo_name,\n",
    "        hoverinfo='text',\n",
    "        text=[', '.join(roles[candidate]) for candidate in roles]\n",
    "    )\n",
    "    traces.append(trace)\n",
    "\n",
    "# Create the figure with all traces\n",
    "fig = go.Figure(data=traces)\n",
    "\n",
    "# Update layout\n",
    "fig.update_layout(\n",
    "    barmode='group',\n",
    "    title='Role Distribution in Combinations for Scenario 2',\n",
    "    xaxis_title='Candidates',\n",
    "    yaxis_title='Number of Roles',\n",
    "    yaxis=dict(range=[0, max([len(roles) for roles in combinations_scenario_2.values()]) + 1])\n",
    ")\n",
    "\n",
    "# Show the plot\n",
    "fig.show()\n"
   ]
  },
  {
   "cell_type": "code",
   "execution_count": null,
   "id": "b59cd148",
   "metadata": {},
   "outputs": [],
   "source": []
  }
 ],
 "metadata": {
  "kernelspec": {
   "display_name": "Python 3 (ipykernel)",
   "language": "python",
   "name": "python3"
  },
  "language_info": {
   "codemirror_mode": {
    "name": "ipython",
    "version": 3
   },
   "file_extension": ".py",
   "mimetype": "text/x-python",
   "name": "python",
   "nbconvert_exporter": "python",
   "pygments_lexer": "ipython3",
   "version": "3.11.5"
  }
 },
 "nbformat": 4,
 "nbformat_minor": 5
}
